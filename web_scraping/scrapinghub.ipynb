{
 "metadata": {
  "language_info": {
   "codemirror_mode": {
    "name": "ipython",
    "version": 3
   },
   "file_extension": ".py",
   "mimetype": "text/x-python",
   "name": "python",
   "nbconvert_exporter": "python",
   "pygments_lexer": "ipython3",
   "version": "3.8.0-final"
  },
  "orig_nbformat": 2,
  "kernelspec": {
   "name": "python_defaultSpec_1598286568578",
   "display_name": "Python 3.8.0 64-bit"
  }
 },
 "nbformat": 4,
 "nbformat_minor": 2,
 "cells": [
  {
   "cell_type": "code",
   "execution_count": 8,
   "metadata": {
    "tags": []
   },
   "outputs": [
    {
     "output_type": "stream",
     "name": "stdout",
     "text": "\nTHE SCRAPINGHUB BLOG\nTurn Web Content Into Useful Data\n\n\n\n\nScrapy Cloud Secrets: Hub Crawl Frontier and How To Use It\nAugust 06, 2020 \nJúlio César Batista\n0 Comment\nRead More\n\n\n\nBlog Comments API (BETA): Extract Blog Comment DATA At Scale\nJuly 30, 2020 \nJohn Campbell\n0 Comment\nBlog Comments API\nRead More\n\n\n\nYour Price Intelligence Questions Answered\nJuly 28, 2020 \nHimanshi Bhatt\n0 Comment\nRead More\n\n\n\nData Center Proxies vs. Residential Proxies\nJuly 21, 2020 \nAttila Tóth\n0 Comment\nRead More\n\n\n\nHow to Get High Success Rates With Proxies: 3 Steps to Scale Up\nJuly 14, 2020 \nAttila Tóth\n0 Comment\nrotating proxy solution\nRead More\n\n\n\nJob Postings API: Stable release\nJuly 09, 2020 \nJohn Campbell\n0 Comment\nJob Postings API\nRead More\n\n\n\nWeb Scraping Basics: A Developer’s Guide To Reliably Extract Data\nJuly 07, 2020 \nChira Mircea\n0 Comment\nRead More\n\n\n\nExtracting Article & News Data: The Importance of Data Quality\nJune 23, 2020 \nAttila Tóth\n0 Comment\nRead More\n\n\n\nPrice Gouging or Economics at Work: Price Intelligence to Track Consumer Sentiment\nJune 11, 2020 \nRobert Cosgrave\n0 Comment\nRead More\n\n\n\nA Practical Guide to Web Data QA Part III: Holistic Data Validation Techniques\nJune 09, 2020 \nIvan Ivanov and Warley Ferreira Lopes\n0 Comment\nfirst part\nsecond part\nRead More\nOLDER POST\n\nWeb Scraping Basics: A Developer’s Guide to Reliably Extract Data\n\n\n\n\nLearn how to configure and utilize proxies with Python Requests module\nAn Introduction to XPath: How to Get Started\nHandling JavaScript in Scrapy with Splash\nHow to Build your own Price Monitoring Tool\nIntroducing Scrapy Cloud with Python 3 Support\nScrapinghub (94)\nScrapy (45)\nWeb Scraping (36)\nReleases (29)\nOpen source (20)\nscrapy (19)\nCrawlera (16)\nScrapy Cloud (15)\ndata extraction (15)\nweb crawling (15)\nProxies (10)\nAutoExtract (9)\nScrapy Tips from the Pros (9)\nWeb Data (9)\ncrawling (8)\nAugust 2020 (1)\nJuly 2020 (6)\nJune 2020 (3)\nMay 2020 (1)\nApril 2020 (3)\nMarch 2020 (6)\nFebruary 2020 (4)\nJanuary 2020 (3)\nDecember 2019 (3)\nNovember 2019 (3)\nOctober 2019 (4)\nSeptember 2019 (4)\nAugust 2019 (3)\nJuly 2019 (2)\nJune 2019 (1)\n"
    }
   ],
   "source": [
    "import requests\n",
    "from bs4 import BeautifulSoup\n",
    "url = \"https://blog.scrapinghub.com/\"\n",
    "page = requests.get(url)\n",
    "if page.status_code==200:\n",
    "    w = bs4.BeautifulSoup(page.text)\n",
    "for link in w.find_all('a'):\n",
    "    print(link.text)"
   ]
  },
  {
   "cell_type": "code",
   "execution_count": 5,
   "metadata": {},
   "outputs": [],
   "source": [
    "item = w.find('h2')"
   ]
  },
  {
   "cell_type": "code",
   "execution_count": 6,
   "metadata": {},
   "outputs": [
    {
     "output_type": "execute_result",
     "data": {
      "text/plain": "'Turn Web Content Into Useful Data'"
     },
     "metadata": {},
     "execution_count": 6
    }
   ],
   "source": [
    "item.text"
   ]
  },
  {
   "cell_type": "code",
   "execution_count": 8,
   "metadata": {
    "tags": []
   },
   "outputs": [],
   "source": [
    "item = w.find('div',{'class':'post-item'})\n"
   ]
  },
  {
   "cell_type": "code",
   "execution_count": 10,
   "metadata": {},
   "outputs": [
    {
     "output_type": "execute_result",
     "data": {
      "text/plain": "'Scrapy Cloud Secrets: Hub Crawl Frontier and How To Use It'"
     },
     "metadata": {},
     "execution_count": 10
    }
   ],
   "source": [
    "item.h2.text"
   ]
  },
  {
   "cell_type": "code",
   "execution_count": 13,
   "metadata": {},
   "outputs": [
    {
     "output_type": "execute_result",
     "data": {
      "text/plain": "'August 06, 2020'"
     },
     "metadata": {},
     "execution_count": 13
    }
   ],
   "source": [
    "item.find('span',{'class':'date'}).text.strip()"
   ]
  },
  {
   "cell_type": "code",
   "execution_count": 14,
   "metadata": {},
   "outputs": [],
   "source": [
    "title = item.h2.text"
   ]
  },
  {
   "cell_type": "code",
   "execution_count": 15,
   "metadata": {},
   "outputs": [
    {
     "output_type": "execute_result",
     "data": {
      "text/plain": "'Scrapy Cloud Secrets: Hub Crawl Frontier and How To Use It'"
     },
     "metadata": {},
     "execution_count": 15
    }
   ],
   "source": [
    "title"
   ]
  },
  {
   "cell_type": "code",
   "execution_count": 16,
   "metadata": {},
   "outputs": [],
   "source": [
    "date = item.find('span',{'class':'date'}).text.strip()"
   ]
  },
  {
   "cell_type": "code",
   "execution_count": 17,
   "metadata": {},
   "outputs": [
    {
     "output_type": "execute_result",
     "data": {
      "text/plain": "'August 06, 2020'"
     },
     "metadata": {},
     "execution_count": 17
    }
   ],
   "source": [
    "date"
   ]
  },
  {
   "cell_type": "code",
   "execution_count": 18,
   "metadata": {},
   "outputs": [],
   "source": [
    "author = item.find('span',{'class':'author'}).text.strip()"
   ]
  },
  {
   "cell_type": "code",
   "execution_count": 20,
   "metadata": {},
   "outputs": [],
   "source": [
    "comments = item.find('span',{'class':'custom_listing_comments'}).text.strip()"
   ]
  },
  {
   "cell_type": "code",
   "execution_count": 21,
   "metadata": {},
   "outputs": [
    {
     "output_type": "execute_result",
     "data": {
      "text/plain": "'0 Comment'"
     },
     "metadata": {},
     "execution_count": 21
    }
   ],
   "source": [
    "comments"
   ]
  },
  {
   "cell_type": "code",
   "execution_count": 39,
   "metadata": {
    "tags": []
   },
   "outputs": [],
   "source": [
    "data = []\n",
    "all_articles = w.find_all('div',{'class':'post-item'})\n",
    "for i in all_articles:\n",
    "    title = i.h2.text\n",
    "    date = i.find('span',{'class':'date'}).text.strip()\n",
    "    author = i.find('span',{'class':'author'}).text.strip()\n",
    "    comments = i.find('span',{'class':'custom_listing_comments'}).text.strip()\n",
    "    data.append({\n",
    "        'title': title  ,\n",
    "        'date' : date  ,\n",
    "        'author': author  ,\n",
    "        'comments': comments\n",
    "    })\n"
   ]
  },
  {
   "cell_type": "code",
   "execution_count": 33,
   "metadata": {},
   "outputs": [
    {
     "output_type": "execute_result",
     "data": {
      "text/plain": "[{'title': 'Scrapy Cloud Secrets: Hub Crawl Frontier and How To Use It',\n  'date': 'August 06, 2020',\n  'author': 'Júlio César Batista',\n  'comments': '0 Comment'},\n {'title': 'Blog Comments API (BETA):\\xa0Extract Blog Comment DATA At Scale',\n  'date': 'July 30, 2020',\n  'author': 'John Campbell',\n  'comments': '0 Comment'},\n {'title': 'Your Price Intelligence Questions Answered',\n  'date': 'July 28, 2020',\n  'author': 'Himanshi Bhatt',\n  'comments': '0 Comment'},\n {'title': 'Data Center Proxies vs. Residential Proxies',\n  'date': 'July 21, 2020',\n  'author': 'Attila Tóth',\n  'comments': '0 Comment'},\n {'title': 'How to Get High Success Rates With Proxies: 3 Steps to Scale Up',\n  'date': 'July 14, 2020',\n  'author': 'Attila Tóth',\n  'comments': '0 Comment'},\n {'title': 'Job Postings API: Stable release',\n  'date': 'July 09, 2020',\n  'author': 'John Campbell',\n  'comments': '0 Comment'},\n {'title': 'Web Scraping Basics: A Developer’s Guide To Reliably Extract Data',\n  'date': 'July 07, 2020',\n  'author': 'Chira Mircea',\n  'comments': '0 Comment'},\n {'title': 'Extracting Article & News Data: The Importance of Data Quality',\n  'date': 'June 23, 2020',\n  'author': 'Attila Tóth',\n  'comments': '0 Comment'},\n {'title': 'Price Gouging or Economics at Work: Price Intelligence to Track Consumer Sentiment',\n  'date': 'June 11, 2020',\n  'author': 'Robert Cosgrave',\n  'comments': '0 Comment'},\n {'title': 'A Practical Guide to Web Data QA Part III: Holistic Data Validation Techniques',\n  'date': 'June 09, 2020',\n  'author': 'Ivan Ivanov and Warley Ferreira Lopes',\n  'comments': '0 Comment'}]"
     },
     "metadata": {},
     "execution_count": 33
    }
   ],
   "source": [
    "data"
   ]
  },
  {
   "cell_type": "code",
   "execution_count": 12,
   "metadata": {},
   "outputs": [],
   "source": [
    "import pandas as pd"
   ]
  },
  {
   "cell_type": "code",
   "execution_count": 13,
   "metadata": {},
   "outputs": [],
   "source": [
    "df = pd.DataFrame(data)"
   ]
  },
  {
   "cell_type": "code",
   "execution_count": 40,
   "metadata": {},
   "outputs": [
    {
     "output_type": "execute_result",
     "data": {
      "text/plain": "                                               title             date  \\\n0  Scrapy Cloud Secrets: Hub Crawl Frontier and H...  August 06, 2020   \n1  Blog Comments API (BETA): Extract Blog Comment...    July 30, 2020   \n2         Your Price Intelligence Questions Answered    July 28, 2020   \n3        Data Center Proxies vs. Residential Proxies    July 21, 2020   \n4  How to Get High Success Rates With Proxies: 3 ...    July 14, 2020   \n5                   Job Postings API: Stable release    July 09, 2020   \n6  Web Scraping Basics: A Developer’s Guide To Re...    July 07, 2020   \n7  Extracting Article & News Data: The Importance...    June 23, 2020   \n8  Price Gouging or Economics at Work: Price Inte...    June 11, 2020   \n9  A Practical Guide to Web Data QA Part III: Hol...    June 09, 2020   \n\n                                  author   comments  \n0                    Júlio César Batista  0 Comment  \n1                          John Campbell  0 Comment  \n2                         Himanshi Bhatt  0 Comment  \n3                            Attila Tóth  0 Comment  \n4                            Attila Tóth  0 Comment  \n5                          John Campbell  0 Comment  \n6                           Chira Mircea  0 Comment  \n7                            Attila Tóth  0 Comment  \n8                        Robert Cosgrave  0 Comment  \n9  Ivan Ivanov and Warley Ferreira Lopes  0 Comment  ",
      "text/html": "<div>\n<style scoped>\n    .dataframe tbody tr th:only-of-type {\n        vertical-align: middle;\n    }\n\n    .dataframe tbody tr th {\n        vertical-align: top;\n    }\n\n    .dataframe thead th {\n        text-align: right;\n    }\n</style>\n<table border=\"1\" class=\"dataframe\">\n  <thead>\n    <tr style=\"text-align: right;\">\n      <th></th>\n      <th>title</th>\n      <th>date</th>\n      <th>author</th>\n      <th>comments</th>\n    </tr>\n  </thead>\n  <tbody>\n    <tr>\n      <th>0</th>\n      <td>Scrapy Cloud Secrets: Hub Crawl Frontier and H...</td>\n      <td>August 06, 2020</td>\n      <td>Júlio César Batista</td>\n      <td>0 Comment</td>\n    </tr>\n    <tr>\n      <th>1</th>\n      <td>Blog Comments API (BETA): Extract Blog Comment...</td>\n      <td>July 30, 2020</td>\n      <td>John Campbell</td>\n      <td>0 Comment</td>\n    </tr>\n    <tr>\n      <th>2</th>\n      <td>Your Price Intelligence Questions Answered</td>\n      <td>July 28, 2020</td>\n      <td>Himanshi Bhatt</td>\n      <td>0 Comment</td>\n    </tr>\n    <tr>\n      <th>3</th>\n      <td>Data Center Proxies vs. Residential Proxies</td>\n      <td>July 21, 2020</td>\n      <td>Attila Tóth</td>\n      <td>0 Comment</td>\n    </tr>\n    <tr>\n      <th>4</th>\n      <td>How to Get High Success Rates With Proxies: 3 ...</td>\n      <td>July 14, 2020</td>\n      <td>Attila Tóth</td>\n      <td>0 Comment</td>\n    </tr>\n    <tr>\n      <th>5</th>\n      <td>Job Postings API: Stable release</td>\n      <td>July 09, 2020</td>\n      <td>John Campbell</td>\n      <td>0 Comment</td>\n    </tr>\n    <tr>\n      <th>6</th>\n      <td>Web Scraping Basics: A Developer’s Guide To Re...</td>\n      <td>July 07, 2020</td>\n      <td>Chira Mircea</td>\n      <td>0 Comment</td>\n    </tr>\n    <tr>\n      <th>7</th>\n      <td>Extracting Article &amp; News Data: The Importance...</td>\n      <td>June 23, 2020</td>\n      <td>Attila Tóth</td>\n      <td>0 Comment</td>\n    </tr>\n    <tr>\n      <th>8</th>\n      <td>Price Gouging or Economics at Work: Price Inte...</td>\n      <td>June 11, 2020</td>\n      <td>Robert Cosgrave</td>\n      <td>0 Comment</td>\n    </tr>\n    <tr>\n      <th>9</th>\n      <td>A Practical Guide to Web Data QA Part III: Hol...</td>\n      <td>June 09, 2020</td>\n      <td>Ivan Ivanov and Warley Ferreira Lopes</td>\n      <td>0 Comment</td>\n    </tr>\n  </tbody>\n</table>\n</div>"
     },
     "metadata": {},
     "execution_count": 40
    }
   ],
   "source": [
    "df"
   ]
  },
  {
   "cell_type": "code",
   "execution_count": 41,
   "metadata": {},
   "outputs": [],
   "source": [
    "df.to_csv(\"Scrapinghub.csv\",index = False)"
   ]
  },
  {
   "cell_type": "code",
   "execution_count": 1,
   "metadata": {},
   "outputs": [],
   "source": [
    "base_url = \"https://blog.scrapinghub.com/page/\""
   ]
  },
  {
   "cell_type": "code",
   "execution_count": 19,
   "metadata": {
    "tags": []
   },
   "outputs": [
    {
     "output_type": "stream",
     "name": "stdout",
     "text": "page 1 scraped\narticle added to data\narticle added to data\narticle added to data\narticle added to data\narticle added to data\narticle added to data\narticle added to data\narticle added to data\narticle added to data\narticle added to data\npage 2 scraped\narticle added to data\narticle added to data\narticle added to data\narticle added to data\narticle added to data\narticle added to data\narticle added to data\narticle added to data\narticle added to data\narticle added to data\npage 3 scraped\narticle added to data\narticle added to data\narticle added to data\narticle added to data\narticle added to data\narticle added to data\narticle added to data\narticle added to data\narticle added to data\narticle added to data\npage 4 scraped\narticle added to data\narticle added to data\narticle added to data\narticle added to data\narticle added to data\narticle added to data\narticle added to data\narticle added to data\narticle added to data\narticle added to data\npage 5 scraped\narticle added to data\narticle added to data\narticle added to data\narticle added to data\narticle added to data\narticle added to data\narticle added to data\narticle added to data\narticle added to data\narticle added to data\npage 6 scraped\narticle added to data\narticle added to data\narticle added to data\narticle added to data\narticle added to data\narticle added to data\narticle added to data\narticle added to data\narticle added to data\narticle added to data\npage 7 scraped\narticle added to data\narticle added to data\narticle added to data\narticle added to data\narticle added to data\narticle added to data\narticle added to data\narticle added to data\narticle added to data\narticle added to data\npage 8 scraped\narticle added to data\narticle added to data\narticle added to data\narticle added to data\narticle added to data\narticle added to data\narticle added to data\narticle added to data\narticle added to data\narticle added to data\npage 9 scraped\narticle added to data\narticle added to data\narticle added to data\narticle added to data\narticle added to data\narticle added to data\narticle added to data\narticle added to data\narticle added to data\narticle added to data\npage 10 scraped\narticle added to data\narticle added to data\narticle added to data\narticle added to data\narticle added to data\narticle added to data\narticle added to data\narticle added to data\narticle added to data\narticle added to data\npage 11 scraped\narticle added to data\narticle added to data\narticle added to data\narticle added to data\narticle added to data\narticle added to data\narticle added to data\narticle added to data\narticle added to data\narticle added to data\npage 12 scraped\narticle added to data\narticle added to data\narticle added to data\narticle added to data\narticle added to data\narticle added to data\narticle added to data\narticle added to data\narticle added to data\narticle added to data\npage 13 scraped\narticle added to data\narticle added to data\narticle added to data\narticle added to data\narticle added to data\narticle added to data\narticle added to data\narticle added to data\narticle added to data\narticle added to data\npage 14 scraped\narticle added to data\narticle added to data\narticle added to data\narticle added to data\narticle added to data\narticle added to data\narticle added to data\narticle added to data\narticle added to data\narticle added to data\npage 15 scraped\narticle added to data\narticle added to data\narticle added to data\narticle added to data\narticle added to data\narticle added to data\narticle added to data\narticle added to data\narticle added to data\narticle added to data\npage 16 scraped\narticle added to data\narticle added to data\narticle added to data\narticle added to data\narticle added to data\narticle added to data\narticle added to data\narticle added to data\narticle added to data\narticle added to data\npage 17 scraped\narticle added to data\narticle added to data\narticle added to data\narticle added to data\narticle added to data\narticle added to data\narticle added to data\narticle added to data\narticle added to data\narticle added to data\npage 18 scraped\narticle added to data\narticle added to data\narticle added to data\narticle added to data\narticle added to data\narticle added to data\narticle added to data\narticle added to data\narticle added to data\narticle added to data\npage 19 scraped\narticle added to data\narticle added to data\narticle added to data\narticle added to data\narticle added to data\narticle added to data\narticle added to data\narticle added to data\narticle added to data\narticle added to data\nscrapping done\n"
    }
   ],
   "source": [
    "pg_no = 1\n",
    "data = []\n",
    "while True:\n",
    "    url = f\"{base_url}{pg_no}\"\n",
    "    page = requests.get(url)\n",
    "    if page.status_code == 200:\n",
    "        print(f\"page {pg_no} scraped\")\n",
    "        pg_no += 1\n",
    "        soup = BeautifulSoup(page.text)\n",
    "        all_articles = w.find_all('div',{'class':'post-item'})\n",
    "        for i in all_articles:\n",
    "            title = i.h2.text\n",
    "            link = i.h2.a.attrs.get('href')\n",
    "            date = i.find('span',{'class':'date'}).text.strip()\n",
    "            author = i.find('span',{'class':'author'}).text.strip()\n",
    "            comments = i.find('span',{'class':'custom_listing_comments'}).text.strip()\n",
    "            data.append({\n",
    "                'title': title  ,\n",
    "                'date' : date  ,\n",
    "                'author': author  ,\n",
    "                'comments': comments,\n",
    "                'link':link\n",
    "            })\n",
    "            print(\"article added to data\")\n",
    "    else:\n",
    "        print(\"scrapping done\")\n",
    "        break;\n"
   ]
  },
  {
   "cell_type": "code",
   "execution_count": 20,
   "metadata": {},
   "outputs": [],
   "source": [
    " df = pd.DataFrame(data)"
   ]
  },
  {
   "cell_type": "code",
   "execution_count": 21,
   "metadata": {},
   "outputs": [
    {
     "output_type": "execute_result",
     "data": {
      "text/plain": "                                                 title             date  \\\n0    Scrapy Cloud Secrets: Hub Crawl Frontier and H...  August 06, 2020   \n1    Blog Comments API (BETA): Extract Blog Comment...    July 30, 2020   \n2           Your Price Intelligence Questions Answered    July 28, 2020   \n3          Data Center Proxies vs. Residential Proxies    July 21, 2020   \n4    How to Get High Success Rates With Proxies: 3 ...    July 14, 2020   \n..                                                 ...              ...   \n185                   Job Postings API: Stable release    July 09, 2020   \n186  Web Scraping Basics: A Developer’s Guide To Re...    July 07, 2020   \n187  Extracting Article & News Data: The Importance...    June 23, 2020   \n188  Price Gouging or Economics at Work: Price Inte...    June 11, 2020   \n189  A Practical Guide to Web Data QA Part III: Hol...    June 09, 2020   \n\n                                    author   comments  \\\n0                      Júlio César Batista  0 Comment   \n1                            John Campbell  0 Comment   \n2                           Himanshi Bhatt  0 Comment   \n3                              Attila Tóth  0 Comment   \n4                              Attila Tóth  0 Comment   \n..                                     ...        ...   \n185                          John Campbell  0 Comment   \n186                           Chira Mircea  0 Comment   \n187                            Attila Tóth  0 Comment   \n188                        Robert Cosgrave  0 Comment   \n189  Ivan Ivanov and Warley Ferreira Lopes  0 Comment   \n\n                                                  link  \n0    https://blog.scrapinghub.com/scrapy-cloud-secr...  \n1    https://blog.scrapinghub.com/blog-comments-api...  \n2    https://blog.scrapinghub.com/price-intelligenc...  \n3    https://blog.scrapinghub.com/data-center-proxi...  \n4    https://blog.scrapinghub.com/how-to-get-high-s...  \n..                                                 ...  \n185  https://blog.scrapinghub.com/job-postings-api-...  \n186  https://blog.scrapinghub.com/web-scraping-basi...  \n187  https://blog.scrapinghub.com/news-api-blog-imp...  \n188  https://blog.scrapinghub.com/price-gouging-or-...  \n189  https://blog.scrapinghub.com/web-data-qa-part-...  \n\n[190 rows x 5 columns]",
      "text/html": "<div>\n<style scoped>\n    .dataframe tbody tr th:only-of-type {\n        vertical-align: middle;\n    }\n\n    .dataframe tbody tr th {\n        vertical-align: top;\n    }\n\n    .dataframe thead th {\n        text-align: right;\n    }\n</style>\n<table border=\"1\" class=\"dataframe\">\n  <thead>\n    <tr style=\"text-align: right;\">\n      <th></th>\n      <th>title</th>\n      <th>date</th>\n      <th>author</th>\n      <th>comments</th>\n      <th>link</th>\n    </tr>\n  </thead>\n  <tbody>\n    <tr>\n      <th>0</th>\n      <td>Scrapy Cloud Secrets: Hub Crawl Frontier and H...</td>\n      <td>August 06, 2020</td>\n      <td>Júlio César Batista</td>\n      <td>0 Comment</td>\n      <td>https://blog.scrapinghub.com/scrapy-cloud-secr...</td>\n    </tr>\n    <tr>\n      <th>1</th>\n      <td>Blog Comments API (BETA): Extract Blog Comment...</td>\n      <td>July 30, 2020</td>\n      <td>John Campbell</td>\n      <td>0 Comment</td>\n      <td>https://blog.scrapinghub.com/blog-comments-api...</td>\n    </tr>\n    <tr>\n      <th>2</th>\n      <td>Your Price Intelligence Questions Answered</td>\n      <td>July 28, 2020</td>\n      <td>Himanshi Bhatt</td>\n      <td>0 Comment</td>\n      <td>https://blog.scrapinghub.com/price-intelligenc...</td>\n    </tr>\n    <tr>\n      <th>3</th>\n      <td>Data Center Proxies vs. Residential Proxies</td>\n      <td>July 21, 2020</td>\n      <td>Attila Tóth</td>\n      <td>0 Comment</td>\n      <td>https://blog.scrapinghub.com/data-center-proxi...</td>\n    </tr>\n    <tr>\n      <th>4</th>\n      <td>How to Get High Success Rates With Proxies: 3 ...</td>\n      <td>July 14, 2020</td>\n      <td>Attila Tóth</td>\n      <td>0 Comment</td>\n      <td>https://blog.scrapinghub.com/how-to-get-high-s...</td>\n    </tr>\n    <tr>\n      <th>...</th>\n      <td>...</td>\n      <td>...</td>\n      <td>...</td>\n      <td>...</td>\n      <td>...</td>\n    </tr>\n    <tr>\n      <th>185</th>\n      <td>Job Postings API: Stable release</td>\n      <td>July 09, 2020</td>\n      <td>John Campbell</td>\n      <td>0 Comment</td>\n      <td>https://blog.scrapinghub.com/job-postings-api-...</td>\n    </tr>\n    <tr>\n      <th>186</th>\n      <td>Web Scraping Basics: A Developer’s Guide To Re...</td>\n      <td>July 07, 2020</td>\n      <td>Chira Mircea</td>\n      <td>0 Comment</td>\n      <td>https://blog.scrapinghub.com/web-scraping-basi...</td>\n    </tr>\n    <tr>\n      <th>187</th>\n      <td>Extracting Article &amp; News Data: The Importance...</td>\n      <td>June 23, 2020</td>\n      <td>Attila Tóth</td>\n      <td>0 Comment</td>\n      <td>https://blog.scrapinghub.com/news-api-blog-imp...</td>\n    </tr>\n    <tr>\n      <th>188</th>\n      <td>Price Gouging or Economics at Work: Price Inte...</td>\n      <td>June 11, 2020</td>\n      <td>Robert Cosgrave</td>\n      <td>0 Comment</td>\n      <td>https://blog.scrapinghub.com/price-gouging-or-...</td>\n    </tr>\n    <tr>\n      <th>189</th>\n      <td>A Practical Guide to Web Data QA Part III: Hol...</td>\n      <td>June 09, 2020</td>\n      <td>Ivan Ivanov and Warley Ferreira Lopes</td>\n      <td>0 Comment</td>\n      <td>https://blog.scrapinghub.com/web-data-qa-part-...</td>\n    </tr>\n  </tbody>\n</table>\n<p>190 rows × 5 columns</p>\n</div>"
     },
     "metadata": {},
     "execution_count": 21
    }
   ],
   "source": [
    "df"
   ]
  },
  {
   "cell_type": "code",
   "execution_count": 22,
   "metadata": {},
   "outputs": [],
   "source": [
    "df.to_csv('scrapinghuballpages.csv',index = False)"
   ]
  },
  {
   "cell_type": "code",
   "execution_count": null,
   "metadata": {},
   "outputs": [],
   "source": []
  }
 ]
}