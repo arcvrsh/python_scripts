{
 "metadata": {
  "language_info": {
   "codemirror_mode": {
    "name": "ipython",
    "version": 3
   },
   "file_extension": ".py",
   "mimetype": "text/x-python",
   "name": "python",
   "nbconvert_exporter": "python",
   "pygments_lexer": "ipython3",
   "version": "3.8.0-final"
  },
  "orig_nbformat": 2,
  "kernelspec": {
   "name": "python_defaultSpec_1599549670167",
   "display_name": "Python 3.8.0 64-bit"
  }
 },
 "nbformat": 4,
 "nbformat_minor": 2,
 "cells": [
  {
   "cell_type": "code",
   "execution_count": 1,
   "metadata": {},
   "outputs": [],
   "source": [
    "import pandas as pd\n",
    "import numpy as np"
   ]
  },
  {
   "cell_type": "code",
   "execution_count": 2,
   "metadata": {},
   "outputs": [
    {
     "output_type": "execute_result",
     "data": {
      "text/plain": "(407688, 102)"
     },
     "metadata": {},
     "execution_count": 2
    }
   ],
   "source": [
    "nfl_data = pd.read_csv('../datasets/NFL Play by Play 2009-2017 (v4).csv')\n",
    "nfl_data.shape\n"
   ]
  },
  {
   "cell_type": "code",
   "execution_count": 3,
   "metadata": {},
   "outputs": [
    {
     "output_type": "execute_result",
     "data": {
      "text/plain": "         Date      GameID  Drive  qtr  down   time  TimeUnder  TimeSecs  \\\n0  2009-09-10  2009091000      1    1   NaN  15:00         15    3600.0   \n1  2009-09-10  2009091000      1    1   1.0  14:53         15    3593.0   \n2  2009-09-10  2009091000      1    1   2.0  14:16         15    3556.0   \n3  2009-09-10  2009091000      1    1   3.0  13:35         14    3515.0   \n4  2009-09-10  2009091000      1    1   4.0  13:27         14    3507.0   \n\n   PlayTimeDiff SideofField  ...    yacEPA  Home_WP_pre  Away_WP_pre  \\\n0           0.0         TEN  ...       NaN     0.485675     0.514325   \n1           7.0         PIT  ...  1.146076     0.546433     0.453567   \n2          37.0         PIT  ...       NaN     0.551088     0.448912   \n3          41.0         PIT  ... -5.031425     0.510793     0.489207   \n4           8.0         PIT  ...       NaN     0.461217     0.538783   \n\n   Home_WP_post  Away_WP_post  Win_Prob       WPA    airWPA    yacWPA  Season  \n0      0.546433      0.453567  0.485675  0.060758       NaN       NaN    2009  \n1      0.551088      0.448912  0.546433  0.004655 -0.032244  0.036899    2009  \n2      0.510793      0.489207  0.551088 -0.040295       NaN       NaN    2009  \n3      0.461217      0.538783  0.510793 -0.049576  0.106663 -0.156239    2009  \n4      0.558929      0.441071  0.461217  0.097712       NaN       NaN    2009  \n\n[5 rows x 102 columns]",
      "text/html": "<div>\n<style scoped>\n    .dataframe tbody tr th:only-of-type {\n        vertical-align: middle;\n    }\n\n    .dataframe tbody tr th {\n        vertical-align: top;\n    }\n\n    .dataframe thead th {\n        text-align: right;\n    }\n</style>\n<table border=\"1\" class=\"dataframe\">\n  <thead>\n    <tr style=\"text-align: right;\">\n      <th></th>\n      <th>Date</th>\n      <th>GameID</th>\n      <th>Drive</th>\n      <th>qtr</th>\n      <th>down</th>\n      <th>time</th>\n      <th>TimeUnder</th>\n      <th>TimeSecs</th>\n      <th>PlayTimeDiff</th>\n      <th>SideofField</th>\n      <th>...</th>\n      <th>yacEPA</th>\n      <th>Home_WP_pre</th>\n      <th>Away_WP_pre</th>\n      <th>Home_WP_post</th>\n      <th>Away_WP_post</th>\n      <th>Win_Prob</th>\n      <th>WPA</th>\n      <th>airWPA</th>\n      <th>yacWPA</th>\n      <th>Season</th>\n    </tr>\n  </thead>\n  <tbody>\n    <tr>\n      <th>0</th>\n      <td>2009-09-10</td>\n      <td>2009091000</td>\n      <td>1</td>\n      <td>1</td>\n      <td>NaN</td>\n      <td>15:00</td>\n      <td>15</td>\n      <td>3600.0</td>\n      <td>0.0</td>\n      <td>TEN</td>\n      <td>...</td>\n      <td>NaN</td>\n      <td>0.485675</td>\n      <td>0.514325</td>\n      <td>0.546433</td>\n      <td>0.453567</td>\n      <td>0.485675</td>\n      <td>0.060758</td>\n      <td>NaN</td>\n      <td>NaN</td>\n      <td>2009</td>\n    </tr>\n    <tr>\n      <th>1</th>\n      <td>2009-09-10</td>\n      <td>2009091000</td>\n      <td>1</td>\n      <td>1</td>\n      <td>1.0</td>\n      <td>14:53</td>\n      <td>15</td>\n      <td>3593.0</td>\n      <td>7.0</td>\n      <td>PIT</td>\n      <td>...</td>\n      <td>1.146076</td>\n      <td>0.546433</td>\n      <td>0.453567</td>\n      <td>0.551088</td>\n      <td>0.448912</td>\n      <td>0.546433</td>\n      <td>0.004655</td>\n      <td>-0.032244</td>\n      <td>0.036899</td>\n      <td>2009</td>\n    </tr>\n    <tr>\n      <th>2</th>\n      <td>2009-09-10</td>\n      <td>2009091000</td>\n      <td>1</td>\n      <td>1</td>\n      <td>2.0</td>\n      <td>14:16</td>\n      <td>15</td>\n      <td>3556.0</td>\n      <td>37.0</td>\n      <td>PIT</td>\n      <td>...</td>\n      <td>NaN</td>\n      <td>0.551088</td>\n      <td>0.448912</td>\n      <td>0.510793</td>\n      <td>0.489207</td>\n      <td>0.551088</td>\n      <td>-0.040295</td>\n      <td>NaN</td>\n      <td>NaN</td>\n      <td>2009</td>\n    </tr>\n    <tr>\n      <th>3</th>\n      <td>2009-09-10</td>\n      <td>2009091000</td>\n      <td>1</td>\n      <td>1</td>\n      <td>3.0</td>\n      <td>13:35</td>\n      <td>14</td>\n      <td>3515.0</td>\n      <td>41.0</td>\n      <td>PIT</td>\n      <td>...</td>\n      <td>-5.031425</td>\n      <td>0.510793</td>\n      <td>0.489207</td>\n      <td>0.461217</td>\n      <td>0.538783</td>\n      <td>0.510793</td>\n      <td>-0.049576</td>\n      <td>0.106663</td>\n      <td>-0.156239</td>\n      <td>2009</td>\n    </tr>\n    <tr>\n      <th>4</th>\n      <td>2009-09-10</td>\n      <td>2009091000</td>\n      <td>1</td>\n      <td>1</td>\n      <td>4.0</td>\n      <td>13:27</td>\n      <td>14</td>\n      <td>3507.0</td>\n      <td>8.0</td>\n      <td>PIT</td>\n      <td>...</td>\n      <td>NaN</td>\n      <td>0.461217</td>\n      <td>0.538783</td>\n      <td>0.558929</td>\n      <td>0.441071</td>\n      <td>0.461217</td>\n      <td>0.097712</td>\n      <td>NaN</td>\n      <td>NaN</td>\n      <td>2009</td>\n    </tr>\n  </tbody>\n</table>\n<p>5 rows × 102 columns</p>\n</div>"
     },
     "metadata": {},
     "execution_count": 3
    }
   ],
   "source": [
    "nfl_data.head()"
   ]
  },
  {
   "cell_type": "code",
   "execution_count": 4,
   "metadata": {},
   "outputs": [],
   "source": [
    "missing_value_count = nfl_data.isnull().sum()"
   ]
  },
  {
   "cell_type": "code",
   "execution_count": 5,
   "metadata": {},
   "outputs": [
    {
     "output_type": "execute_result",
     "data": {
      "text/plain": "Date                0\nGameID              0\nDrive               0\nqtr                 0\ndown            61154\ntime              224\nTimeUnder           0\nTimeSecs          224\nPlayTimeDiff      444\nSideofField       528\ndtype: int64"
     },
     "metadata": {},
     "execution_count": 5
    }
   ],
   "source": [
    "missing_value_count.head(10)"
   ]
  },
  {
   "cell_type": "code",
   "execution_count": 6,
   "metadata": {},
   "outputs": [
    {
     "output_type": "execute_result",
     "data": {
      "text/plain": "41584176"
     },
     "metadata": {},
     "execution_count": 6
    }
   ],
   "source": [
    "np.product(nfl_data.shape)"
   ]
  },
  {
   "cell_type": "code",
   "execution_count": 7,
   "metadata": {},
   "outputs": [
    {
     "output_type": "execute_result",
     "data": {
      "text/plain": "10342875"
     },
     "metadata": {},
     "execution_count": 7
    }
   ],
   "source": [
    "missing_value_count.sum()"
   ]
  },
  {
   "cell_type": "code",
   "execution_count": 8,
   "metadata": {},
   "outputs": [
    {
     "output_type": "execute_result",
     "data": {
      "text/plain": "402.05625611834233"
     },
     "metadata": {},
     "execution_count": 8
    }
   ],
   "source": [
    "(np.product(nfl_data.shape)/missing_value_count.sum())*100"
   ]
  },
  {
   "cell_type": "code",
   "execution_count": 9,
   "metadata": {},
   "outputs": [
    {
     "output_type": "execute_result",
     "data": {
      "text/plain": "Empty DataFrame\nColumns: [Date, GameID, Drive, qtr, down, time, TimeUnder, TimeSecs, PlayTimeDiff, SideofField, yrdln, yrdline100, ydstogo, ydsnet, GoalToGo, FirstDown, posteam, DefensiveTeam, desc, PlayAttempted, Yards.Gained, sp, Touchdown, ExPointResult, TwoPointConv, DefTwoPoint, Safety, Onsidekick, PuntResult, PlayType, Passer, Passer_ID, PassAttempt, PassOutcome, PassLength, AirYards, YardsAfterCatch, QBHit, PassLocation, InterceptionThrown, Interceptor, Rusher, Rusher_ID, RushAttempt, RunLocation, RunGap, Receiver, Receiver_ID, Reception, ReturnResult, Returner, BlockingPlayer, Tackler1, Tackler2, FieldGoalResult, FieldGoalDistance, Fumble, RecFumbTeam, RecFumbPlayer, Sack, Challenge.Replay, ChalReplayResult, Accepted.Penalty, PenalizedTeam, PenaltyType, PenalizedPlayer, Penalty.Yards, PosTeamScore, DefTeamScore, ScoreDiff, AbsScoreDiff, HomeTeam, AwayTeam, Timeout_Indicator, Timeout_Team, posteam_timeouts_pre, HomeTimeouts_Remaining_Pre, AwayTimeouts_Remaining_Pre, HomeTimeouts_Remaining_Post, AwayTimeouts_Remaining_Post, No_Score_Prob, Opp_Field_Goal_Prob, Opp_Safety_Prob, Opp_Touchdown_Prob, Field_Goal_Prob, Safety_Prob, Touchdown_Prob, ExPoint_Prob, TwoPoint_Prob, ExpPts, EPA, airEPA, yacEPA, Home_WP_pre, Away_WP_pre, Home_WP_post, Away_WP_post, Win_Prob, WPA, airWPA, ...]\nIndex: []\n\n[0 rows x 102 columns]",
      "text/html": "<div>\n<style scoped>\n    .dataframe tbody tr th:only-of-type {\n        vertical-align: middle;\n    }\n\n    .dataframe tbody tr th {\n        vertical-align: top;\n    }\n\n    .dataframe thead th {\n        text-align: right;\n    }\n</style>\n<table border=\"1\" class=\"dataframe\">\n  <thead>\n    <tr style=\"text-align: right;\">\n      <th></th>\n      <th>Date</th>\n      <th>GameID</th>\n      <th>Drive</th>\n      <th>qtr</th>\n      <th>down</th>\n      <th>time</th>\n      <th>TimeUnder</th>\n      <th>TimeSecs</th>\n      <th>PlayTimeDiff</th>\n      <th>SideofField</th>\n      <th>...</th>\n      <th>yacEPA</th>\n      <th>Home_WP_pre</th>\n      <th>Away_WP_pre</th>\n      <th>Home_WP_post</th>\n      <th>Away_WP_post</th>\n      <th>Win_Prob</th>\n      <th>WPA</th>\n      <th>airWPA</th>\n      <th>yacWPA</th>\n      <th>Season</th>\n    </tr>\n  </thead>\n  <tbody>\n  </tbody>\n</table>\n<p>0 rows × 102 columns</p>\n</div>"
     },
     "metadata": {},
     "execution_count": 9
    }
   ],
   "source": [
    "nfl_data.dropna()"
   ]
  },
  {
   "cell_type": "code",
   "execution_count": 10,
   "metadata": {},
   "outputs": [
    {
     "output_type": "execute_result",
     "data": {
      "text/plain": "              Date      GameID  Drive  qtr  TimeUnder  ydstogo  ydsnet  \\\n0       2009-09-10  2009091000      1    1         15        0       0   \n1       2009-09-10  2009091000      1    1         15       10       5   \n2       2009-09-10  2009091000      1    1         15        5       2   \n3       2009-09-10  2009091000      1    1         14        8       2   \n4       2009-09-10  2009091000      1    1         14        8       2   \n...            ...         ...    ...  ...        ...      ...     ...   \n407683  2017-12-31  2017123101     29    4          1        0      -4   \n407684  2017-12-31  2017123101     29    4          1       14      -4   \n407685  2017-12-31  2017123101     29    4          1       14       9   \n407686  2017-12-31  2017123101     30    4          1       10      -1   \n407687  2017-12-31  2017123101     30    4          0        0      -1   \n\n        PlayAttempted  Yards.Gained  sp  ...  Timeout_Indicator  Timeout_Team  \\\n0                   1            39   0  ...                  0          None   \n1                   1             5   0  ...                  0          None   \n2                   1            -3   0  ...                  0          None   \n3                   1             0   0  ...                  0          None   \n4                   1             0   0  ...                  0          None   \n...               ...           ...  ..  ...                ...           ...   \n407683              1             0   0  ...                  1           BAL   \n407684              1             0   0  ...                  0          None   \n407685              1            13   0  ...                  0          None   \n407686              1            -1   0  ...                  0          None   \n407687              1             0   0  ...                  0          None   \n\n        posteam_timeouts_pre HomeTimeouts_Remaining_Pre  \\\n0                          3                          3   \n1                          3                          3   \n2                          3                          3   \n3                          3                          3   \n4                          3                          3   \n...                      ...                        ...   \n407683                     0                          3   \n407684                     2                          2   \n407685                     2                          2   \n407686                     0                          2   \n407687                     0                          2   \n\n       AwayTimeouts_Remaining_Pre  HomeTimeouts_Remaining_Post  \\\n0                               3                            3   \n1                               3                            3   \n2                               3                            3   \n3                               3                            3   \n4                               3                            3   \n...                           ...                          ...   \n407683                          0                            2   \n407684                          0                            2   \n407685                          0                            2   \n407686                          0                            2   \n407687                          0                            2   \n\n        AwayTimeouts_Remaining_Post  ExPoint_Prob  TwoPoint_Prob  Season  \n0                                 3           0.0            0.0    2009  \n1                                 3           0.0            0.0    2009  \n2                                 3           0.0            0.0    2009  \n3                                 3           0.0            0.0    2009  \n4                                 3           0.0            0.0    2009  \n...                             ...           ...            ...     ...  \n407683                            0           0.0            0.0    2017  \n407684                            0           0.0            0.0    2017  \n407685                            0           0.0            0.0    2017  \n407686                            0           0.0            0.0    2017  \n407687                            0           0.0            0.0    2017  \n\n[407688 rows x 41 columns]",
      "text/html": "<div>\n<style scoped>\n    .dataframe tbody tr th:only-of-type {\n        vertical-align: middle;\n    }\n\n    .dataframe tbody tr th {\n        vertical-align: top;\n    }\n\n    .dataframe thead th {\n        text-align: right;\n    }\n</style>\n<table border=\"1\" class=\"dataframe\">\n  <thead>\n    <tr style=\"text-align: right;\">\n      <th></th>\n      <th>Date</th>\n      <th>GameID</th>\n      <th>Drive</th>\n      <th>qtr</th>\n      <th>TimeUnder</th>\n      <th>ydstogo</th>\n      <th>ydsnet</th>\n      <th>PlayAttempted</th>\n      <th>Yards.Gained</th>\n      <th>sp</th>\n      <th>...</th>\n      <th>Timeout_Indicator</th>\n      <th>Timeout_Team</th>\n      <th>posteam_timeouts_pre</th>\n      <th>HomeTimeouts_Remaining_Pre</th>\n      <th>AwayTimeouts_Remaining_Pre</th>\n      <th>HomeTimeouts_Remaining_Post</th>\n      <th>AwayTimeouts_Remaining_Post</th>\n      <th>ExPoint_Prob</th>\n      <th>TwoPoint_Prob</th>\n      <th>Season</th>\n    </tr>\n  </thead>\n  <tbody>\n    <tr>\n      <th>0</th>\n      <td>2009-09-10</td>\n      <td>2009091000</td>\n      <td>1</td>\n      <td>1</td>\n      <td>15</td>\n      <td>0</td>\n      <td>0</td>\n      <td>1</td>\n      <td>39</td>\n      <td>0</td>\n      <td>...</td>\n      <td>0</td>\n      <td>None</td>\n      <td>3</td>\n      <td>3</td>\n      <td>3</td>\n      <td>3</td>\n      <td>3</td>\n      <td>0.0</td>\n      <td>0.0</td>\n      <td>2009</td>\n    </tr>\n    <tr>\n      <th>1</th>\n      <td>2009-09-10</td>\n      <td>2009091000</td>\n      <td>1</td>\n      <td>1</td>\n      <td>15</td>\n      <td>10</td>\n      <td>5</td>\n      <td>1</td>\n      <td>5</td>\n      <td>0</td>\n      <td>...</td>\n      <td>0</td>\n      <td>None</td>\n      <td>3</td>\n      <td>3</td>\n      <td>3</td>\n      <td>3</td>\n      <td>3</td>\n      <td>0.0</td>\n      <td>0.0</td>\n      <td>2009</td>\n    </tr>\n    <tr>\n      <th>2</th>\n      <td>2009-09-10</td>\n      <td>2009091000</td>\n      <td>1</td>\n      <td>1</td>\n      <td>15</td>\n      <td>5</td>\n      <td>2</td>\n      <td>1</td>\n      <td>-3</td>\n      <td>0</td>\n      <td>...</td>\n      <td>0</td>\n      <td>None</td>\n      <td>3</td>\n      <td>3</td>\n      <td>3</td>\n      <td>3</td>\n      <td>3</td>\n      <td>0.0</td>\n      <td>0.0</td>\n      <td>2009</td>\n    </tr>\n    <tr>\n      <th>3</th>\n      <td>2009-09-10</td>\n      <td>2009091000</td>\n      <td>1</td>\n      <td>1</td>\n      <td>14</td>\n      <td>8</td>\n      <td>2</td>\n      <td>1</td>\n      <td>0</td>\n      <td>0</td>\n      <td>...</td>\n      <td>0</td>\n      <td>None</td>\n      <td>3</td>\n      <td>3</td>\n      <td>3</td>\n      <td>3</td>\n      <td>3</td>\n      <td>0.0</td>\n      <td>0.0</td>\n      <td>2009</td>\n    </tr>\n    <tr>\n      <th>4</th>\n      <td>2009-09-10</td>\n      <td>2009091000</td>\n      <td>1</td>\n      <td>1</td>\n      <td>14</td>\n      <td>8</td>\n      <td>2</td>\n      <td>1</td>\n      <td>0</td>\n      <td>0</td>\n      <td>...</td>\n      <td>0</td>\n      <td>None</td>\n      <td>3</td>\n      <td>3</td>\n      <td>3</td>\n      <td>3</td>\n      <td>3</td>\n      <td>0.0</td>\n      <td>0.0</td>\n      <td>2009</td>\n    </tr>\n    <tr>\n      <th>...</th>\n      <td>...</td>\n      <td>...</td>\n      <td>...</td>\n      <td>...</td>\n      <td>...</td>\n      <td>...</td>\n      <td>...</td>\n      <td>...</td>\n      <td>...</td>\n      <td>...</td>\n      <td>...</td>\n      <td>...</td>\n      <td>...</td>\n      <td>...</td>\n      <td>...</td>\n      <td>...</td>\n      <td>...</td>\n      <td>...</td>\n      <td>...</td>\n      <td>...</td>\n      <td>...</td>\n    </tr>\n    <tr>\n      <th>407683</th>\n      <td>2017-12-31</td>\n      <td>2017123101</td>\n      <td>29</td>\n      <td>4</td>\n      <td>1</td>\n      <td>0</td>\n      <td>-4</td>\n      <td>1</td>\n      <td>0</td>\n      <td>0</td>\n      <td>...</td>\n      <td>1</td>\n      <td>BAL</td>\n      <td>0</td>\n      <td>3</td>\n      <td>0</td>\n      <td>2</td>\n      <td>0</td>\n      <td>0.0</td>\n      <td>0.0</td>\n      <td>2017</td>\n    </tr>\n    <tr>\n      <th>407684</th>\n      <td>2017-12-31</td>\n      <td>2017123101</td>\n      <td>29</td>\n      <td>4</td>\n      <td>1</td>\n      <td>14</td>\n      <td>-4</td>\n      <td>1</td>\n      <td>0</td>\n      <td>0</td>\n      <td>...</td>\n      <td>0</td>\n      <td>None</td>\n      <td>2</td>\n      <td>2</td>\n      <td>0</td>\n      <td>2</td>\n      <td>0</td>\n      <td>0.0</td>\n      <td>0.0</td>\n      <td>2017</td>\n    </tr>\n    <tr>\n      <th>407685</th>\n      <td>2017-12-31</td>\n      <td>2017123101</td>\n      <td>29</td>\n      <td>4</td>\n      <td>1</td>\n      <td>14</td>\n      <td>9</td>\n      <td>1</td>\n      <td>13</td>\n      <td>0</td>\n      <td>...</td>\n      <td>0</td>\n      <td>None</td>\n      <td>2</td>\n      <td>2</td>\n      <td>0</td>\n      <td>2</td>\n      <td>0</td>\n      <td>0.0</td>\n      <td>0.0</td>\n      <td>2017</td>\n    </tr>\n    <tr>\n      <th>407686</th>\n      <td>2017-12-31</td>\n      <td>2017123101</td>\n      <td>30</td>\n      <td>4</td>\n      <td>1</td>\n      <td>10</td>\n      <td>-1</td>\n      <td>1</td>\n      <td>-1</td>\n      <td>0</td>\n      <td>...</td>\n      <td>0</td>\n      <td>None</td>\n      <td>0</td>\n      <td>2</td>\n      <td>0</td>\n      <td>2</td>\n      <td>0</td>\n      <td>0.0</td>\n      <td>0.0</td>\n      <td>2017</td>\n    </tr>\n    <tr>\n      <th>407687</th>\n      <td>2017-12-31</td>\n      <td>2017123101</td>\n      <td>30</td>\n      <td>4</td>\n      <td>0</td>\n      <td>0</td>\n      <td>-1</td>\n      <td>1</td>\n      <td>0</td>\n      <td>0</td>\n      <td>...</td>\n      <td>0</td>\n      <td>None</td>\n      <td>0</td>\n      <td>2</td>\n      <td>0</td>\n      <td>2</td>\n      <td>0</td>\n      <td>0.0</td>\n      <td>0.0</td>\n      <td>2017</td>\n    </tr>\n  </tbody>\n</table>\n<p>407688 rows × 41 columns</p>\n</div>"
     },
     "metadata": {},
     "execution_count": 10
    }
   ],
   "source": [
    "nfl_data.dropna(axis=1)"
   ]
  },
  {
   "cell_type": "code",
   "execution_count": 11,
   "metadata": {},
   "outputs": [
    {
     "output_type": "execute_result",
     "data": {
      "text/plain": "(407688, 41)"
     },
     "metadata": {},
     "execution_count": 11
    }
   ],
   "source": [
    "columns_with_na_dropped = nfl_data.dropna(axis=1)\n",
    "columns_with_na_dropped.shape"
   ]
  },
  {
   "cell_type": "code",
   "execution_count": 12,
   "metadata": {
    "tags": []
   },
   "outputs": [
    {
     "output_type": "stream",
     "name": "stdout",
     "text": "['Date', 'GameID', 'Drive', 'qtr', 'down', 'time', 'TimeUnder', 'TimeSecs', 'PlayTimeDiff', 'SideofField', 'yrdln', 'yrdline100', 'ydstogo', 'ydsnet', 'GoalToGo', 'FirstDown', 'posteam', 'DefensiveTeam', 'desc', 'PlayAttempted', 'Yards.Gained', 'sp', 'Touchdown', 'ExPointResult', 'TwoPointConv', 'DefTwoPoint', 'Safety', 'Onsidekick', 'PuntResult', 'PlayType', 'Passer', 'Passer_ID', 'PassAttempt', 'PassOutcome', 'PassLength', 'AirYards', 'YardsAfterCatch', 'QBHit', 'PassLocation', 'InterceptionThrown', 'Interceptor', 'Rusher', 'Rusher_ID', 'RushAttempt', 'RunLocation', 'RunGap', 'Receiver', 'Receiver_ID', 'Reception', 'ReturnResult', 'Returner', 'BlockingPlayer', 'Tackler1', 'Tackler2', 'FieldGoalResult', 'FieldGoalDistance', 'Fumble', 'RecFumbTeam', 'RecFumbPlayer', 'Sack', 'Challenge.Replay', 'ChalReplayResult', 'Accepted.Penalty', 'PenalizedTeam', 'PenaltyType', 'PenalizedPlayer', 'Penalty.Yards', 'PosTeamScore', 'DefTeamScore', 'ScoreDiff', 'AbsScoreDiff', 'HomeTeam', 'AwayTeam', 'Timeout_Indicator', 'Timeout_Team', 'posteam_timeouts_pre', 'HomeTimeouts_Remaining_Pre', 'AwayTimeouts_Remaining_Pre', 'HomeTimeouts_Remaining_Post', 'AwayTimeouts_Remaining_Post', 'No_Score_Prob', 'Opp_Field_Goal_Prob', 'Opp_Safety_Prob', 'Opp_Touchdown_Prob', 'Field_Goal_Prob', 'Safety_Prob', 'Touchdown_Prob', 'ExPoint_Prob', 'TwoPoint_Prob', 'ExpPts', 'EPA', 'airEPA', 'yacEPA', 'Home_WP_pre', 'Away_WP_pre', 'Home_WP_post', 'Away_WP_post', 'Win_Prob', 'WPA', 'airWPA', 'yacWPA', 'Season']\n"
    }
   ],
   "source": [
    "print(nfl_data.columns.tolist())"
   ]
  },
  {
   "cell_type": "code",
   "execution_count": 13,
   "metadata": {},
   "outputs": [
    {
     "output_type": "execute_result",
     "data": {
      "text/plain": "        EPA    airEPA    yacEPA  Home_WP_pre  Away_WP_pre  Home_WP_post  \\\n0  2.014474       NaN       NaN     0.485675     0.514325      0.546433   \n1  0.077907 -1.068169  1.146076     0.546433     0.453567      0.551088   \n2 -1.402760       NaN       NaN     0.551088     0.448912      0.510793   \n3 -1.712583  3.318841 -5.031425     0.510793     0.489207      0.461217   \n4  2.097796       NaN       NaN     0.461217     0.538783      0.558929   \n\n   Away_WP_post  Win_Prob       WPA    airWPA    yacWPA  Season  \n0      0.453567  0.485675  0.060758       NaN       NaN    2009  \n1      0.448912  0.546433  0.004655 -0.032244  0.036899    2009  \n2      0.489207  0.551088 -0.040295       NaN       NaN    2009  \n3      0.538783  0.510793 -0.049576  0.106663 -0.156239    2009  \n4      0.441071  0.461217  0.097712       NaN       NaN    2009  ",
      "text/html": "<div>\n<style scoped>\n    .dataframe tbody tr th:only-of-type {\n        vertical-align: middle;\n    }\n\n    .dataframe tbody tr th {\n        vertical-align: top;\n    }\n\n    .dataframe thead th {\n        text-align: right;\n    }\n</style>\n<table border=\"1\" class=\"dataframe\">\n  <thead>\n    <tr style=\"text-align: right;\">\n      <th></th>\n      <th>EPA</th>\n      <th>airEPA</th>\n      <th>yacEPA</th>\n      <th>Home_WP_pre</th>\n      <th>Away_WP_pre</th>\n      <th>Home_WP_post</th>\n      <th>Away_WP_post</th>\n      <th>Win_Prob</th>\n      <th>WPA</th>\n      <th>airWPA</th>\n      <th>yacWPA</th>\n      <th>Season</th>\n    </tr>\n  </thead>\n  <tbody>\n    <tr>\n      <th>0</th>\n      <td>2.014474</td>\n      <td>NaN</td>\n      <td>NaN</td>\n      <td>0.485675</td>\n      <td>0.514325</td>\n      <td>0.546433</td>\n      <td>0.453567</td>\n      <td>0.485675</td>\n      <td>0.060758</td>\n      <td>NaN</td>\n      <td>NaN</td>\n      <td>2009</td>\n    </tr>\n    <tr>\n      <th>1</th>\n      <td>0.077907</td>\n      <td>-1.068169</td>\n      <td>1.146076</td>\n      <td>0.546433</td>\n      <td>0.453567</td>\n      <td>0.551088</td>\n      <td>0.448912</td>\n      <td>0.546433</td>\n      <td>0.004655</td>\n      <td>-0.032244</td>\n      <td>0.036899</td>\n      <td>2009</td>\n    </tr>\n    <tr>\n      <th>2</th>\n      <td>-1.402760</td>\n      <td>NaN</td>\n      <td>NaN</td>\n      <td>0.551088</td>\n      <td>0.448912</td>\n      <td>0.510793</td>\n      <td>0.489207</td>\n      <td>0.551088</td>\n      <td>-0.040295</td>\n      <td>NaN</td>\n      <td>NaN</td>\n      <td>2009</td>\n    </tr>\n    <tr>\n      <th>3</th>\n      <td>-1.712583</td>\n      <td>3.318841</td>\n      <td>-5.031425</td>\n      <td>0.510793</td>\n      <td>0.489207</td>\n      <td>0.461217</td>\n      <td>0.538783</td>\n      <td>0.510793</td>\n      <td>-0.049576</td>\n      <td>0.106663</td>\n      <td>-0.156239</td>\n      <td>2009</td>\n    </tr>\n    <tr>\n      <th>4</th>\n      <td>2.097796</td>\n      <td>NaN</td>\n      <td>NaN</td>\n      <td>0.461217</td>\n      <td>0.538783</td>\n      <td>0.558929</td>\n      <td>0.441071</td>\n      <td>0.461217</td>\n      <td>0.097712</td>\n      <td>NaN</td>\n      <td>NaN</td>\n      <td>2009</td>\n    </tr>\n  </tbody>\n</table>\n</div>"
     },
     "metadata": {},
     "execution_count": 13
    }
   ],
   "source": [
    "subset_nfl_data = nfl_data.loc[:,'EPA':'Season']\n",
    "subset_nfl_data.head()"
   ]
  },
  {
   "cell_type": "code",
   "execution_count": 14,
   "metadata": {},
   "outputs": [
    {
     "output_type": "execute_result",
     "data": {
      "text/plain": "             EPA    airEPA    yacEPA  Home_WP_pre  Away_WP_pre  Home_WP_post  \\\n0       2.014474  0.000000  0.000000     0.485675     0.514325      0.546433   \n1       0.077907 -1.068169  1.146076     0.546433     0.453567      0.551088   \n2      -1.402760  0.000000  0.000000     0.551088     0.448912      0.510793   \n3      -1.712583  3.318841 -5.031425     0.510793     0.489207      0.461217   \n4       2.097796  0.000000  0.000000     0.461217     0.538783      0.558929   \n...          ...       ...       ...          ...          ...           ...   \n407683  0.000000  0.000000  0.000000     0.000000     0.000000      0.000000   \n407684 -0.340818  0.056697 -0.397515     0.080409     0.919591      0.050478   \n407685  0.139913 -2.317201  2.457114     0.050478     0.949522      0.030881   \n407686  0.000000  0.000000  0.000000     0.030881     0.969119      0.000000   \n407687  0.000000  0.000000  0.000000     0.000000     1.000000      0.000000   \n\n        Away_WP_post  Win_Prob       WPA    airWPA    yacWPA  Season  \n0           0.453567  0.485675  0.060758  0.000000  0.000000    2009  \n1           0.448912  0.546433  0.004655 -0.032244  0.036899    2009  \n2           0.489207  0.551088 -0.040295  0.000000  0.000000    2009  \n3           0.538783  0.510793 -0.049576  0.106663 -0.156239    2009  \n4           0.441071  0.461217  0.097712  0.000000  0.000000    2009  \n...              ...       ...       ...       ...       ...     ...  \n407683      0.000000  0.000000  0.000000  0.000000  0.000000    2017  \n407684      0.949522  0.080409 -0.029931 -0.021795 -0.008136    2017  \n407685      0.969119  0.050478 -0.019597 -0.030603  0.011006    2017  \n407686      1.000000  0.969119  0.030881  0.000000  0.000000    2017  \n407687      1.000000  0.999159  0.000000  0.000000  0.000000    2017  \n\n[407688 rows x 12 columns]",
      "text/html": "<div>\n<style scoped>\n    .dataframe tbody tr th:only-of-type {\n        vertical-align: middle;\n    }\n\n    .dataframe tbody tr th {\n        vertical-align: top;\n    }\n\n    .dataframe thead th {\n        text-align: right;\n    }\n</style>\n<table border=\"1\" class=\"dataframe\">\n  <thead>\n    <tr style=\"text-align: right;\">\n      <th></th>\n      <th>EPA</th>\n      <th>airEPA</th>\n      <th>yacEPA</th>\n      <th>Home_WP_pre</th>\n      <th>Away_WP_pre</th>\n      <th>Home_WP_post</th>\n      <th>Away_WP_post</th>\n      <th>Win_Prob</th>\n      <th>WPA</th>\n      <th>airWPA</th>\n      <th>yacWPA</th>\n      <th>Season</th>\n    </tr>\n  </thead>\n  <tbody>\n    <tr>\n      <th>0</th>\n      <td>2.014474</td>\n      <td>0.000000</td>\n      <td>0.000000</td>\n      <td>0.485675</td>\n      <td>0.514325</td>\n      <td>0.546433</td>\n      <td>0.453567</td>\n      <td>0.485675</td>\n      <td>0.060758</td>\n      <td>0.000000</td>\n      <td>0.000000</td>\n      <td>2009</td>\n    </tr>\n    <tr>\n      <th>1</th>\n      <td>0.077907</td>\n      <td>-1.068169</td>\n      <td>1.146076</td>\n      <td>0.546433</td>\n      <td>0.453567</td>\n      <td>0.551088</td>\n      <td>0.448912</td>\n      <td>0.546433</td>\n      <td>0.004655</td>\n      <td>-0.032244</td>\n      <td>0.036899</td>\n      <td>2009</td>\n    </tr>\n    <tr>\n      <th>2</th>\n      <td>-1.402760</td>\n      <td>0.000000</td>\n      <td>0.000000</td>\n      <td>0.551088</td>\n      <td>0.448912</td>\n      <td>0.510793</td>\n      <td>0.489207</td>\n      <td>0.551088</td>\n      <td>-0.040295</td>\n      <td>0.000000</td>\n      <td>0.000000</td>\n      <td>2009</td>\n    </tr>\n    <tr>\n      <th>3</th>\n      <td>-1.712583</td>\n      <td>3.318841</td>\n      <td>-5.031425</td>\n      <td>0.510793</td>\n      <td>0.489207</td>\n      <td>0.461217</td>\n      <td>0.538783</td>\n      <td>0.510793</td>\n      <td>-0.049576</td>\n      <td>0.106663</td>\n      <td>-0.156239</td>\n      <td>2009</td>\n    </tr>\n    <tr>\n      <th>4</th>\n      <td>2.097796</td>\n      <td>0.000000</td>\n      <td>0.000000</td>\n      <td>0.461217</td>\n      <td>0.538783</td>\n      <td>0.558929</td>\n      <td>0.441071</td>\n      <td>0.461217</td>\n      <td>0.097712</td>\n      <td>0.000000</td>\n      <td>0.000000</td>\n      <td>2009</td>\n    </tr>\n    <tr>\n      <th>...</th>\n      <td>...</td>\n      <td>...</td>\n      <td>...</td>\n      <td>...</td>\n      <td>...</td>\n      <td>...</td>\n      <td>...</td>\n      <td>...</td>\n      <td>...</td>\n      <td>...</td>\n      <td>...</td>\n      <td>...</td>\n    </tr>\n    <tr>\n      <th>407683</th>\n      <td>0.000000</td>\n      <td>0.000000</td>\n      <td>0.000000</td>\n      <td>0.000000</td>\n      <td>0.000000</td>\n      <td>0.000000</td>\n      <td>0.000000</td>\n      <td>0.000000</td>\n      <td>0.000000</td>\n      <td>0.000000</td>\n      <td>0.000000</td>\n      <td>2017</td>\n    </tr>\n    <tr>\n      <th>407684</th>\n      <td>-0.340818</td>\n      <td>0.056697</td>\n      <td>-0.397515</td>\n      <td>0.080409</td>\n      <td>0.919591</td>\n      <td>0.050478</td>\n      <td>0.949522</td>\n      <td>0.080409</td>\n      <td>-0.029931</td>\n      <td>-0.021795</td>\n      <td>-0.008136</td>\n      <td>2017</td>\n    </tr>\n    <tr>\n      <th>407685</th>\n      <td>0.139913</td>\n      <td>-2.317201</td>\n      <td>2.457114</td>\n      <td>0.050478</td>\n      <td>0.949522</td>\n      <td>0.030881</td>\n      <td>0.969119</td>\n      <td>0.050478</td>\n      <td>-0.019597</td>\n      <td>-0.030603</td>\n      <td>0.011006</td>\n      <td>2017</td>\n    </tr>\n    <tr>\n      <th>407686</th>\n      <td>0.000000</td>\n      <td>0.000000</td>\n      <td>0.000000</td>\n      <td>0.030881</td>\n      <td>0.969119</td>\n      <td>0.000000</td>\n      <td>1.000000</td>\n      <td>0.969119</td>\n      <td>0.030881</td>\n      <td>0.000000</td>\n      <td>0.000000</td>\n      <td>2017</td>\n    </tr>\n    <tr>\n      <th>407687</th>\n      <td>0.000000</td>\n      <td>0.000000</td>\n      <td>0.000000</td>\n      <td>0.000000</td>\n      <td>1.000000</td>\n      <td>0.000000</td>\n      <td>1.000000</td>\n      <td>0.999159</td>\n      <td>0.000000</td>\n      <td>0.000000</td>\n      <td>0.000000</td>\n      <td>2017</td>\n    </tr>\n  </tbody>\n</table>\n<p>407688 rows × 12 columns</p>\n</div>"
     },
     "metadata": {},
     "execution_count": 14
    }
   ],
   "source": [
    "subset_nfl_data.fillna(0)"
   ]
  },
  {
   "cell_type": "code",
   "execution_count": 15,
   "metadata": {},
   "outputs": [],
   "source": [
    "cleaned_subset = subset_nfl_data.fillna(method='bfill',axis=0)"
   ]
  },
  {
   "cell_type": "markdown",
   "metadata": {},
   "source": [
    "\n",
    "# removing missing values \n",
    " - dropping columns using dropna\n",
    " - filling NaN with any values\n",
    " - replacing data"
   ]
  },
  {
   "cell_type": "code",
   "execution_count": 16,
   "metadata": {
    "tags": []
   },
   "outputs": [
    {
     "output_type": "stream",
     "name": "stdout",
     "text": "<class 'pandas.core.frame.DataFrame'>\nRangeIndex: 407688 entries, 0 to 407687\nColumns: 102 entries, Date to Season\ndtypes: float64(33), int64(31), object(38)\nmemory usage: 317.3+ MB\n"
    }
   ],
   "source": [
    "nfl_data.info()"
   ]
  },
  {
   "cell_type": "code",
   "execution_count": 17,
   "metadata": {},
   "outputs": [
    {
     "output_type": "stream",
     "text": "\u001b[1;31mSignature:\u001b[0m \u001b[0mnfl_data\u001b[0m\u001b[1;33m.\u001b[0m\u001b[0mdescribe\u001b[0m\u001b[1;33m(\u001b[0m\u001b[0mpercentiles\u001b[0m\u001b[1;33m=\u001b[0m\u001b[1;32mNone\u001b[0m\u001b[1;33m,\u001b[0m \u001b[0minclude\u001b[0m\u001b[1;33m=\u001b[0m\u001b[1;32mNone\u001b[0m\u001b[1;33m,\u001b[0m \u001b[0mexclude\u001b[0m\u001b[1;33m=\u001b[0m\u001b[1;32mNone\u001b[0m\u001b[1;33m)\u001b[0m \u001b[1;33m->\u001b[0m \u001b[1;33m~\u001b[0m\u001b[0mFrameOrSeries\u001b[0m\u001b[1;33m\u001b[0m\u001b[1;33m\u001b[0m\u001b[0m\n\u001b[1;31mDocstring:\u001b[0m\nGenerate descriptive statistics.\n\nDescriptive statistics include those that summarize the central\ntendency, dispersion and shape of a\ndataset's distribution, excluding ``NaN`` values.\n\nAnalyzes both numeric and object series, as well\nas ``DataFrame`` column sets of mixed data types. The output\nwill vary depending on what is provided. Refer to the notes\nbelow for more detail.\n\nParameters\n----------\npercentiles : list-like of numbers, optional\n    The percentiles to include in the output. All should\n    fall between 0 and 1. The default is\n    ``[.25, .5, .75]``, which returns the 25th, 50th, and\n    75th percentiles.\ninclude : 'all', list-like of dtypes or None (default), optional\n    A white list of data types to include in the result. Ignored\n    for ``Series``. Here are the options:\n\n    - 'all' : All columns of the input will be included in the output.\n    - A list-like of dtypes : Limits the results to the\n      provided data types.\n      To limit the result to numeric types submit\n      ``numpy.number``. To limit it instead to object columns submit\n      the ``numpy.object`` data type. Strings\n      can also be used in the style of\n      ``select_dtypes`` (e.g. ``df.describe(include=['O'])``). To\n      select pandas categorical columns, use ``'category'``\n    - None (default) : The result will include all numeric columns.\nexclude : list-like of dtypes or None (default), optional,\n    A black list of data types to omit from the result. Ignored\n    for ``Series``. Here are the options:\n\n    - A list-like of dtypes : Excludes the provided data types\n      from the result. To exclude numeric types submit\n      ``numpy.number``. To exclude object columns submit the data\n      type ``numpy.object``. Strings can also be used in the style of\n      ``select_dtypes`` (e.g. ``df.describe(include=['O'])``). To\n      exclude pandas categorical columns, use ``'category'``\n    - None (default) : The result will exclude nothing.\n\nReturns\n-------\nSeries or DataFrame\n    Summary statistics of the Series or Dataframe provided.\n\nSee Also\n--------\nDataFrame.count: Count number of non-NA/null observations.\nDataFrame.max: Maximum of the values in the object.\nDataFrame.min: Minimum of the values in the object.\nDataFrame.mean: Mean of the values.\nDataFrame.std: Standard deviation of the observations.\nDataFrame.select_dtypes: Subset of a DataFrame including/excluding\n    columns based on their dtype.\n\nNotes\n-----\nFor numeric data, the result's index will include ``count``,\n``mean``, ``std``, ``min``, ``max`` as well as lower, ``50`` and\nupper percentiles. By default the lower percentile is ``25`` and the\nupper percentile is ``75``. The ``50`` percentile is the\nsame as the median.\n\nFor object data (e.g. strings or timestamps), the result's index\nwill include ``count``, ``unique``, ``top``, and ``freq``. The ``top``\nis the most common value. The ``freq`` is the most common value's\nfrequency. Timestamps also include the ``first`` and ``last`` items.\n\nIf multiple object values have the highest count, then the\n``count`` and ``top`` results will be arbitrarily chosen from\namong those with the highest count.\n\nFor mixed data types provided via a ``DataFrame``, the default is to\nreturn only an analysis of numeric columns. If the dataframe consists\nonly of object and categorical data without any numeric columns, the\ndefault is to return an analysis of both the object and categorical\ncolumns. If ``include='all'`` is provided as an option, the result\nwill include a union of attributes of each type.\n\nThe `include` and `exclude` parameters can be used to limit\nwhich columns in a ``DataFrame`` are analyzed for the output.\nThe parameters are ignored when analyzing a ``Series``.\n\nExamples\n--------\nDescribing a numeric ``Series``.\n\n>>> s = pd.Series([1, 2, 3])\n>>> s.describe()\ncount    3.0\nmean     2.0\nstd      1.0\nmin      1.0\n25%      1.5\n50%      2.0\n75%      2.5\nmax      3.0\ndtype: float64\n\nDescribing a categorical ``Series``.\n\n>>> s = pd.Series(['a', 'a', 'b', 'c'])\n>>> s.describe()\ncount     4\nunique    3\ntop       a\nfreq      2\ndtype: object\n\nDescribing a timestamp ``Series``.\n\n>>> s = pd.Series([\n...   np.datetime64(\"2000-01-01\"),\n...   np.datetime64(\"2010-01-01\"),\n...   np.datetime64(\"2010-01-01\")\n... ])\n>>> s.describe()\ncount                       3\nunique                      2\ntop       2010-01-01 00:00:00\nfreq                        2\nfirst     2000-01-01 00:00:00\nlast      2010-01-01 00:00:00\ndtype: object\n\nDescribing a ``DataFrame``. By default only numeric fields\nare returned.\n\n>>> df = pd.DataFrame({'categorical': pd.Categorical(['d','e','f']),\n...                    'numeric': [1, 2, 3],\n...                    'object': ['a', 'b', 'c']\n...                   })\n>>> df.describe()\n       numeric\ncount      3.0\nmean       2.0\nstd        1.0\nmin        1.0\n25%        1.5\n50%        2.0\n75%        2.5\nmax        3.0\n\nDescribing all columns of a ``DataFrame`` regardless of data type.\n\n>>> df.describe(include='all')\n        categorical  numeric object\ncount            3      3.0      3\nunique           3      NaN      3\ntop              f      NaN      c\nfreq             1      NaN      1\nmean           NaN      2.0    NaN\nstd            NaN      1.0    NaN\nmin            NaN      1.0    NaN\n25%            NaN      1.5    NaN\n50%            NaN      2.0    NaN\n75%            NaN      2.5    NaN\nmax            NaN      3.0    NaN\n\nDescribing a column from a ``DataFrame`` by accessing it as\nan attribute.\n\n>>> df.numeric.describe()\ncount    3.0\nmean     2.0\nstd      1.0\nmin      1.0\n25%      1.5\n50%      2.0\n75%      2.5\nmax      3.0\nName: numeric, dtype: float64\n\nIncluding only numeric columns in a ``DataFrame`` description.\n\n>>> df.describe(include=[np.number])\n       numeric\ncount      3.0\nmean       2.0\nstd        1.0\nmin        1.0\n25%        1.5\n50%        2.0\n75%        2.5\nmax        3.0\n\nIncluding only string columns in a ``DataFrame`` description.\n\n>>> df.describe(include=[np.object])\n       object\ncount       3\nunique      3\ntop         c\nfreq        1\n\nIncluding only categorical columns from a ``DataFrame`` description.\n\n>>> df.describe(include=['category'])\n       categorical\ncount            3\nunique           3\ntop              f\nfreq             1\n\nExcluding numeric columns from a ``DataFrame`` description.\n\n>>> df.describe(exclude=[np.number])\n       categorical object\ncount            3      3\nunique           3      3\ntop              f      c\nfreq             1      1\n\nExcluding object columns from a ``DataFrame`` description.\n\n>>> df.describe(exclude=[np.object])\n       categorical  numeric\ncount            3      3.0\nunique           3      NaN\ntop              f      NaN\nfreq             1      NaN\nmean           NaN      2.0\nstd            NaN      1.0\nmin            NaN      1.0\n25%            NaN      1.5\n50%            NaN      2.0\n75%            NaN      2.5\nmax            NaN      3.0\n\u001b[1;31mFile:\u001b[0m      c:\\users\\archi\\appdata\\local\\programs\\python\\python38\\lib\\site-packages\\pandas\\core\\generic.py\n\u001b[1;31mType:\u001b[0m      method\n"
    }
   ],
   "source": [
    "nfl_data.describe?"
   ]
  },
  {
   "cell_type": "code",
   "execution_count": 18,
   "metadata": {},
   "outputs": [
    {
     "output_type": "execute_result",
     "data": {
      "text/plain": "                down       TimeSecs   PlayTimeDiff          yrdln  \\\ncount  346534.000000  407464.000000  407244.000000  406848.000000   \nmean        2.002476    1695.268944      20.576762      28.488327   \nstd         1.006353    1062.801012      17.969326      12.946471   \nmin         1.000000    -900.000000       0.000000       1.000000   \n25%         1.000000     778.000000       5.000000      20.000000   \n50%         2.000000    1800.000000      17.000000      30.000000   \n75%         3.000000    2585.000000      37.000000      39.000000   \nmax         4.000000    3600.000000     943.000000      50.000000   \n\n          yrdline100       GoalToGo      FirstDown  FieldGoalDistance  \\\ncount  406848.000000  406848.000000  378877.000000        8948.000000   \nmean       48.644081       0.049134       0.290509          37.465132   \nstd        25.070416       0.216148       0.453998          10.282682   \nmin         1.000000       0.000000       0.000000          18.000000   \n25%        30.000000       0.000000       0.000000          29.000000   \n50%        49.000000       0.000000       0.000000          38.000000   \n75%        70.000000       0.000000       1.000000          46.000000   \nmax        99.000000       1.000000       1.000000          71.000000   \n\n        PosTeamScore   DefTeamScore  ...         airEPA         yacEPA  \\\ncount  380784.000000  380784.000000  ...  159294.000000  159190.000000   \nmean       10.201424      11.414484  ...       0.524818      -0.386086   \nstd         9.432067       9.910753  ...       1.394159       1.972715   \nmin         0.000000       0.000000  ...     -12.849594     -14.000000   \n25%         2.000000       3.000000  ...      -0.502895      -0.961115   \n50%         7.000000      10.000000  ...       0.295977       0.000000   \n75%        16.000000      17.000000  ...       1.386486       0.485508   \nmax        61.000000      61.000000  ...       7.346969       9.559834   \n\n         Home_WP_pre    Away_WP_pre   Home_WP_post   Away_WP_post  \\\ncount  382734.000000  382734.000000  381101.000000  381101.000000   \nmean        0.534488       0.465965       0.534791       0.465613   \nstd         0.285574       0.285629       0.287818       0.287867   \nmin         0.000000       0.000000       0.000000       0.000000   \n25%         0.325123       0.231411       0.321701       0.227694   \n50%         0.531274       0.469052       0.533609       0.466670   \n75%         0.769232       0.675530       0.772882       0.678833   \nmax         1.000000       1.000000       1.000000       1.000000   \n\n            Win_Prob            WPA         airWPA         yacWPA  \ncount  382679.000000  402147.000000  159187.000000  158926.000000  \nmean        0.501320       0.002099       0.015135      -0.010480  \nstd         0.287445       0.045363       0.056490       0.068139  \nmin         0.000000      -0.997214      -0.999881      -0.986673  \n25%         0.276472      -0.014728      -0.011518      -0.018683  \n50%         0.504470       0.000000       0.003441       0.000000  \n75%         0.725477       0.014684       0.035792       0.011431  \nmax         1.000000       0.994848       0.994848       1.000000  \n\n[8 rows x 33 columns]",
      "text/html": "<div>\n<style scoped>\n    .dataframe tbody tr th:only-of-type {\n        vertical-align: middle;\n    }\n\n    .dataframe tbody tr th {\n        vertical-align: top;\n    }\n\n    .dataframe thead th {\n        text-align: right;\n    }\n</style>\n<table border=\"1\" class=\"dataframe\">\n  <thead>\n    <tr style=\"text-align: right;\">\n      <th></th>\n      <th>down</th>\n      <th>TimeSecs</th>\n      <th>PlayTimeDiff</th>\n      <th>yrdln</th>\n      <th>yrdline100</th>\n      <th>GoalToGo</th>\n      <th>FirstDown</th>\n      <th>FieldGoalDistance</th>\n      <th>PosTeamScore</th>\n      <th>DefTeamScore</th>\n      <th>...</th>\n      <th>airEPA</th>\n      <th>yacEPA</th>\n      <th>Home_WP_pre</th>\n      <th>Away_WP_pre</th>\n      <th>Home_WP_post</th>\n      <th>Away_WP_post</th>\n      <th>Win_Prob</th>\n      <th>WPA</th>\n      <th>airWPA</th>\n      <th>yacWPA</th>\n    </tr>\n  </thead>\n  <tbody>\n    <tr>\n      <th>count</th>\n      <td>346534.000000</td>\n      <td>407464.000000</td>\n      <td>407244.000000</td>\n      <td>406848.000000</td>\n      <td>406848.000000</td>\n      <td>406848.000000</td>\n      <td>378877.000000</td>\n      <td>8948.000000</td>\n      <td>380784.000000</td>\n      <td>380784.000000</td>\n      <td>...</td>\n      <td>159294.000000</td>\n      <td>159190.000000</td>\n      <td>382734.000000</td>\n      <td>382734.000000</td>\n      <td>381101.000000</td>\n      <td>381101.000000</td>\n      <td>382679.000000</td>\n      <td>402147.000000</td>\n      <td>159187.000000</td>\n      <td>158926.000000</td>\n    </tr>\n    <tr>\n      <th>mean</th>\n      <td>2.002476</td>\n      <td>1695.268944</td>\n      <td>20.576762</td>\n      <td>28.488327</td>\n      <td>48.644081</td>\n      <td>0.049134</td>\n      <td>0.290509</td>\n      <td>37.465132</td>\n      <td>10.201424</td>\n      <td>11.414484</td>\n      <td>...</td>\n      <td>0.524818</td>\n      <td>-0.386086</td>\n      <td>0.534488</td>\n      <td>0.465965</td>\n      <td>0.534791</td>\n      <td>0.465613</td>\n      <td>0.501320</td>\n      <td>0.002099</td>\n      <td>0.015135</td>\n      <td>-0.010480</td>\n    </tr>\n    <tr>\n      <th>std</th>\n      <td>1.006353</td>\n      <td>1062.801012</td>\n      <td>17.969326</td>\n      <td>12.946471</td>\n      <td>25.070416</td>\n      <td>0.216148</td>\n      <td>0.453998</td>\n      <td>10.282682</td>\n      <td>9.432067</td>\n      <td>9.910753</td>\n      <td>...</td>\n      <td>1.394159</td>\n      <td>1.972715</td>\n      <td>0.285574</td>\n      <td>0.285629</td>\n      <td>0.287818</td>\n      <td>0.287867</td>\n      <td>0.287445</td>\n      <td>0.045363</td>\n      <td>0.056490</td>\n      <td>0.068139</td>\n    </tr>\n    <tr>\n      <th>min</th>\n      <td>1.000000</td>\n      <td>-900.000000</td>\n      <td>0.000000</td>\n      <td>1.000000</td>\n      <td>1.000000</td>\n      <td>0.000000</td>\n      <td>0.000000</td>\n      <td>18.000000</td>\n      <td>0.000000</td>\n      <td>0.000000</td>\n      <td>...</td>\n      <td>-12.849594</td>\n      <td>-14.000000</td>\n      <td>0.000000</td>\n      <td>0.000000</td>\n      <td>0.000000</td>\n      <td>0.000000</td>\n      <td>0.000000</td>\n      <td>-0.997214</td>\n      <td>-0.999881</td>\n      <td>-0.986673</td>\n    </tr>\n    <tr>\n      <th>25%</th>\n      <td>1.000000</td>\n      <td>778.000000</td>\n      <td>5.000000</td>\n      <td>20.000000</td>\n      <td>30.000000</td>\n      <td>0.000000</td>\n      <td>0.000000</td>\n      <td>29.000000</td>\n      <td>2.000000</td>\n      <td>3.000000</td>\n      <td>...</td>\n      <td>-0.502895</td>\n      <td>-0.961115</td>\n      <td>0.325123</td>\n      <td>0.231411</td>\n      <td>0.321701</td>\n      <td>0.227694</td>\n      <td>0.276472</td>\n      <td>-0.014728</td>\n      <td>-0.011518</td>\n      <td>-0.018683</td>\n    </tr>\n    <tr>\n      <th>50%</th>\n      <td>2.000000</td>\n      <td>1800.000000</td>\n      <td>17.000000</td>\n      <td>30.000000</td>\n      <td>49.000000</td>\n      <td>0.000000</td>\n      <td>0.000000</td>\n      <td>38.000000</td>\n      <td>7.000000</td>\n      <td>10.000000</td>\n      <td>...</td>\n      <td>0.295977</td>\n      <td>0.000000</td>\n      <td>0.531274</td>\n      <td>0.469052</td>\n      <td>0.533609</td>\n      <td>0.466670</td>\n      <td>0.504470</td>\n      <td>0.000000</td>\n      <td>0.003441</td>\n      <td>0.000000</td>\n    </tr>\n    <tr>\n      <th>75%</th>\n      <td>3.000000</td>\n      <td>2585.000000</td>\n      <td>37.000000</td>\n      <td>39.000000</td>\n      <td>70.000000</td>\n      <td>0.000000</td>\n      <td>1.000000</td>\n      <td>46.000000</td>\n      <td>16.000000</td>\n      <td>17.000000</td>\n      <td>...</td>\n      <td>1.386486</td>\n      <td>0.485508</td>\n      <td>0.769232</td>\n      <td>0.675530</td>\n      <td>0.772882</td>\n      <td>0.678833</td>\n      <td>0.725477</td>\n      <td>0.014684</td>\n      <td>0.035792</td>\n      <td>0.011431</td>\n    </tr>\n    <tr>\n      <th>max</th>\n      <td>4.000000</td>\n      <td>3600.000000</td>\n      <td>943.000000</td>\n      <td>50.000000</td>\n      <td>99.000000</td>\n      <td>1.000000</td>\n      <td>1.000000</td>\n      <td>71.000000</td>\n      <td>61.000000</td>\n      <td>61.000000</td>\n      <td>...</td>\n      <td>7.346969</td>\n      <td>9.559834</td>\n      <td>1.000000</td>\n      <td>1.000000</td>\n      <td>1.000000</td>\n      <td>1.000000</td>\n      <td>1.000000</td>\n      <td>0.994848</td>\n      <td>0.994848</td>\n      <td>1.000000</td>\n    </tr>\n  </tbody>\n</table>\n<p>8 rows × 33 columns</p>\n</div>"
     },
     "metadata": {},
     "execution_count": 18
    }
   ],
   "source": [
    "nfl_data.describe(include = 'float64')"
   ]
  },
  {
   "cell_type": "markdown",
   "metadata": {},
   "source": [
    "## replacing values in a colunm\n",
    "  - if values are numerical\n",
    "    - replace values by mean (avg of other values in the same col)\n",
    "    - replace values by median\n",
    "    - replace values by mode (freq) when numbers are repeating\n",
    "  - if values are categorical (object)\n",
    "    - replace values by freq"
   ]
  },
  {
   "cell_type": "code",
   "execution_count": 19,
   "metadata": {},
   "outputs": [
    {
     "output_type": "execute_result",
     "data": {
      "text/plain": "1.0    138878\n2.0    104089\n3.0     67398\n4.0     36169\nName: down, dtype: int64"
     },
     "metadata": {},
     "execution_count": 19
    }
   ],
   "source": [
    "nfl_data.down.value_counts()"
   ]
  },
  {
   "cell_type": "code",
   "execution_count": 20,
   "metadata": {},
   "outputs": [],
   "source": [
    "value_to_replace = nfl_data.down.value_counts().idxmax()\n",
    "nfl_data.down.replace(np.nan,value_to_replace,inplace=True)"
   ]
  },
  {
   "cell_type": "code",
   "execution_count": 21,
   "metadata": {},
   "outputs": [
    {
     "output_type": "execute_result",
     "data": {
      "text/plain": "                down       TimeSecs   PlayTimeDiff          yrdln  \\\ncount  407688.000000  407464.000000  407244.000000  406848.000000   \nmean        1.852103    1695.268944      20.576762      28.488327   \nstd         0.994467    1062.801012      17.969326      12.946471   \nmin         1.000000    -900.000000       0.000000       1.000000   \n25%         1.000000     778.000000       5.000000      20.000000   \n50%         2.000000    1800.000000      17.000000      30.000000   \n75%         3.000000    2585.000000      37.000000      39.000000   \nmax         4.000000    3600.000000     943.000000      50.000000   \n\n          yrdline100       GoalToGo      FirstDown  FieldGoalDistance  \\\ncount  406848.000000  406848.000000  378877.000000        8948.000000   \nmean       48.644081       0.049134       0.290509          37.465132   \nstd        25.070416       0.216148       0.453998          10.282682   \nmin         1.000000       0.000000       0.000000          18.000000   \n25%        30.000000       0.000000       0.000000          29.000000   \n50%        49.000000       0.000000       0.000000          38.000000   \n75%        70.000000       0.000000       1.000000          46.000000   \nmax        99.000000       1.000000       1.000000          71.000000   \n\n        PosTeamScore   DefTeamScore  ...         airEPA         yacEPA  \\\ncount  380784.000000  380784.000000  ...  159294.000000  159190.000000   \nmean       10.201424      11.414484  ...       0.524818      -0.386086   \nstd         9.432067       9.910753  ...       1.394159       1.972715   \nmin         0.000000       0.000000  ...     -12.849594     -14.000000   \n25%         2.000000       3.000000  ...      -0.502895      -0.961115   \n50%         7.000000      10.000000  ...       0.295977       0.000000   \n75%        16.000000      17.000000  ...       1.386486       0.485508   \nmax        61.000000      61.000000  ...       7.346969       9.559834   \n\n         Home_WP_pre    Away_WP_pre   Home_WP_post   Away_WP_post  \\\ncount  382734.000000  382734.000000  381101.000000  381101.000000   \nmean        0.534488       0.465965       0.534791       0.465613   \nstd         0.285574       0.285629       0.287818       0.287867   \nmin         0.000000       0.000000       0.000000       0.000000   \n25%         0.325123       0.231411       0.321701       0.227694   \n50%         0.531274       0.469052       0.533609       0.466670   \n75%         0.769232       0.675530       0.772882       0.678833   \nmax         1.000000       1.000000       1.000000       1.000000   \n\n            Win_Prob            WPA         airWPA         yacWPA  \ncount  382679.000000  402147.000000  159187.000000  158926.000000  \nmean        0.501320       0.002099       0.015135      -0.010480  \nstd         0.287445       0.045363       0.056490       0.068139  \nmin         0.000000      -0.997214      -0.999881      -0.986673  \n25%         0.276472      -0.014728      -0.011518      -0.018683  \n50%         0.504470       0.000000       0.003441       0.000000  \n75%         0.725477       0.014684       0.035792       0.011431  \nmax         1.000000       0.994848       0.994848       1.000000  \n\n[8 rows x 33 columns]",
      "text/html": "<div>\n<style scoped>\n    .dataframe tbody tr th:only-of-type {\n        vertical-align: middle;\n    }\n\n    .dataframe tbody tr th {\n        vertical-align: top;\n    }\n\n    .dataframe thead th {\n        text-align: right;\n    }\n</style>\n<table border=\"1\" class=\"dataframe\">\n  <thead>\n    <tr style=\"text-align: right;\">\n      <th></th>\n      <th>down</th>\n      <th>TimeSecs</th>\n      <th>PlayTimeDiff</th>\n      <th>yrdln</th>\n      <th>yrdline100</th>\n      <th>GoalToGo</th>\n      <th>FirstDown</th>\n      <th>FieldGoalDistance</th>\n      <th>PosTeamScore</th>\n      <th>DefTeamScore</th>\n      <th>...</th>\n      <th>airEPA</th>\n      <th>yacEPA</th>\n      <th>Home_WP_pre</th>\n      <th>Away_WP_pre</th>\n      <th>Home_WP_post</th>\n      <th>Away_WP_post</th>\n      <th>Win_Prob</th>\n      <th>WPA</th>\n      <th>airWPA</th>\n      <th>yacWPA</th>\n    </tr>\n  </thead>\n  <tbody>\n    <tr>\n      <th>count</th>\n      <td>407688.000000</td>\n      <td>407464.000000</td>\n      <td>407244.000000</td>\n      <td>406848.000000</td>\n      <td>406848.000000</td>\n      <td>406848.000000</td>\n      <td>378877.000000</td>\n      <td>8948.000000</td>\n      <td>380784.000000</td>\n      <td>380784.000000</td>\n      <td>...</td>\n      <td>159294.000000</td>\n      <td>159190.000000</td>\n      <td>382734.000000</td>\n      <td>382734.000000</td>\n      <td>381101.000000</td>\n      <td>381101.000000</td>\n      <td>382679.000000</td>\n      <td>402147.000000</td>\n      <td>159187.000000</td>\n      <td>158926.000000</td>\n    </tr>\n    <tr>\n      <th>mean</th>\n      <td>1.852103</td>\n      <td>1695.268944</td>\n      <td>20.576762</td>\n      <td>28.488327</td>\n      <td>48.644081</td>\n      <td>0.049134</td>\n      <td>0.290509</td>\n      <td>37.465132</td>\n      <td>10.201424</td>\n      <td>11.414484</td>\n      <td>...</td>\n      <td>0.524818</td>\n      <td>-0.386086</td>\n      <td>0.534488</td>\n      <td>0.465965</td>\n      <td>0.534791</td>\n      <td>0.465613</td>\n      <td>0.501320</td>\n      <td>0.002099</td>\n      <td>0.015135</td>\n      <td>-0.010480</td>\n    </tr>\n    <tr>\n      <th>std</th>\n      <td>0.994467</td>\n      <td>1062.801012</td>\n      <td>17.969326</td>\n      <td>12.946471</td>\n      <td>25.070416</td>\n      <td>0.216148</td>\n      <td>0.453998</td>\n      <td>10.282682</td>\n      <td>9.432067</td>\n      <td>9.910753</td>\n      <td>...</td>\n      <td>1.394159</td>\n      <td>1.972715</td>\n      <td>0.285574</td>\n      <td>0.285629</td>\n      <td>0.287818</td>\n      <td>0.287867</td>\n      <td>0.287445</td>\n      <td>0.045363</td>\n      <td>0.056490</td>\n      <td>0.068139</td>\n    </tr>\n    <tr>\n      <th>min</th>\n      <td>1.000000</td>\n      <td>-900.000000</td>\n      <td>0.000000</td>\n      <td>1.000000</td>\n      <td>1.000000</td>\n      <td>0.000000</td>\n      <td>0.000000</td>\n      <td>18.000000</td>\n      <td>0.000000</td>\n      <td>0.000000</td>\n      <td>...</td>\n      <td>-12.849594</td>\n      <td>-14.000000</td>\n      <td>0.000000</td>\n      <td>0.000000</td>\n      <td>0.000000</td>\n      <td>0.000000</td>\n      <td>0.000000</td>\n      <td>-0.997214</td>\n      <td>-0.999881</td>\n      <td>-0.986673</td>\n    </tr>\n    <tr>\n      <th>25%</th>\n      <td>1.000000</td>\n      <td>778.000000</td>\n      <td>5.000000</td>\n      <td>20.000000</td>\n      <td>30.000000</td>\n      <td>0.000000</td>\n      <td>0.000000</td>\n      <td>29.000000</td>\n      <td>2.000000</td>\n      <td>3.000000</td>\n      <td>...</td>\n      <td>-0.502895</td>\n      <td>-0.961115</td>\n      <td>0.325123</td>\n      <td>0.231411</td>\n      <td>0.321701</td>\n      <td>0.227694</td>\n      <td>0.276472</td>\n      <td>-0.014728</td>\n      <td>-0.011518</td>\n      <td>-0.018683</td>\n    </tr>\n    <tr>\n      <th>50%</th>\n      <td>2.000000</td>\n      <td>1800.000000</td>\n      <td>17.000000</td>\n      <td>30.000000</td>\n      <td>49.000000</td>\n      <td>0.000000</td>\n      <td>0.000000</td>\n      <td>38.000000</td>\n      <td>7.000000</td>\n      <td>10.000000</td>\n      <td>...</td>\n      <td>0.295977</td>\n      <td>0.000000</td>\n      <td>0.531274</td>\n      <td>0.469052</td>\n      <td>0.533609</td>\n      <td>0.466670</td>\n      <td>0.504470</td>\n      <td>0.000000</td>\n      <td>0.003441</td>\n      <td>0.000000</td>\n    </tr>\n    <tr>\n      <th>75%</th>\n      <td>3.000000</td>\n      <td>2585.000000</td>\n      <td>37.000000</td>\n      <td>39.000000</td>\n      <td>70.000000</td>\n      <td>0.000000</td>\n      <td>1.000000</td>\n      <td>46.000000</td>\n      <td>16.000000</td>\n      <td>17.000000</td>\n      <td>...</td>\n      <td>1.386486</td>\n      <td>0.485508</td>\n      <td>0.769232</td>\n      <td>0.675530</td>\n      <td>0.772882</td>\n      <td>0.678833</td>\n      <td>0.725477</td>\n      <td>0.014684</td>\n      <td>0.035792</td>\n      <td>0.011431</td>\n    </tr>\n    <tr>\n      <th>max</th>\n      <td>4.000000</td>\n      <td>3600.000000</td>\n      <td>943.000000</td>\n      <td>50.000000</td>\n      <td>99.000000</td>\n      <td>1.000000</td>\n      <td>1.000000</td>\n      <td>71.000000</td>\n      <td>61.000000</td>\n      <td>61.000000</td>\n      <td>...</td>\n      <td>7.346969</td>\n      <td>9.559834</td>\n      <td>1.000000</td>\n      <td>1.000000</td>\n      <td>1.000000</td>\n      <td>1.000000</td>\n      <td>1.000000</td>\n      <td>0.994848</td>\n      <td>0.994848</td>\n      <td>1.000000</td>\n    </tr>\n  </tbody>\n</table>\n<p>8 rows × 33 columns</p>\n</div>"
     },
     "metadata": {},
     "execution_count": 21
    }
   ],
   "source": [
    "nfl_data.describe(include='float64')"
   ]
  },
  {
   "cell_type": "code",
   "execution_count": 22,
   "metadata": {},
   "outputs": [],
   "source": [
    "avg_time_secs=nfl_data.TimeSecs.mean()\n",
    "nfl_data.TimeSecs.replace(np.nan,avg_time_secs,inplace=True)"
   ]
  },
  {
   "cell_type": "code",
   "execution_count": 25,
   "metadata": {},
   "outputs": [
    {
     "output_type": "execute_result",
     "data": {
      "text/plain": "(407688,)"
     },
     "metadata": {},
     "execution_count": 25
    }
   ],
   "source": [
    "nfl_data.TimeSecs.shape"
   ]
  },
  {
   "cell_type": "code",
   "execution_count": 27,
   "metadata": {},
   "outputs": [
    {
     "output_type": "execute_result",
     "data": {
      "text/plain": "(407688,)"
     },
     "metadata": {},
     "execution_count": 27
    }
   ],
   "source": [
    "avg_play_time_diff=nfl_data.PlayTimeDiff.mean()\n",
    "nfl_data.PlayTimeDiff.replace(np.nan,avg_play_time_diff,inplace=True)\n",
    "nfl_data.PlayTimeDiff.shape"
   ]
  },
  {
   "cell_type": "code",
   "execution_count": 71,
   "metadata": {},
   "outputs": [
    {
     "output_type": "execute_result",
     "data": {
      "text/plain": "(407688,)"
     },
     "metadata": {},
     "execution_count": 71
    }
   ],
   "source": [
    "yrdln_md=nfl_data.yrdln.median()\n",
    "nfl_data.yrdln.replace(np.nan,yrdln_md,inplace=True)\n",
    "nfl_data.yrdln.shape"
   ]
  },
  {
   "cell_type": "code",
   "execution_count": 31,
   "metadata": {},
   "outputs": [
    {
     "output_type": "execute_result",
     "data": {
      "text/plain": "(407688,)"
     },
     "metadata": {},
     "execution_count": 31
    }
   ],
   "source": [
    "avg_yrdline100\t= nfl_data.yrdline100.mean()\n",
    "nfl_data.yrdline100.replace(np.nan,avg_yrdline100,inplace=True)\n",
    "nfl_data.yrdline100\t.shape"
   ]
  },
  {
   "cell_type": "code",
   "execution_count": 36,
   "metadata": {},
   "outputs": [
    {
     "output_type": "execute_result",
     "data": {
      "text/plain": "(407688,)"
     },
     "metadata": {},
     "execution_count": 36
    }
   ],
   "source": [
    "Goal_replace = nfl_data.GoalToGo.value_counts().idxmax()\n",
    "nfl_data.GoalToGo.replace(np.nan,Goal_replace,inplace=True)\n",
    "nfl_data.GoalToGo.shape"
   ]
  },
  {
   "cell_type": "code",
   "execution_count": 38,
   "metadata": {},
   "outputs": [
    {
     "output_type": "execute_result",
     "data": {
      "text/plain": "(407688,)"
     },
     "metadata": {},
     "execution_count": 38
    }
   ],
   "source": [
    "First_Down_replace = nfl_data.FirstDown.value_counts().idxmax()\n",
    "nfl_data.GoalToGo.replace(np.nan,First_Down_replace,inplace=True)\n",
    "nfl_data.FirstDown.shape"
   ]
  },
  {
   "cell_type": "code",
   "execution_count": 39,
   "metadata": {},
   "outputs": [
    {
     "output_type": "execute_result",
     "data": {
      "text/plain": "(407688,)"
     },
     "metadata": {},
     "execution_count": 39
    }
   ],
   "source": [
    "Field_replace = nfl_data.FieldGoalDistance.value_counts().idxmax()\n",
    "nfl_data.FieldGoalDistance.replace(np.nan,Field_replace,inplace=True)\n",
    "nfl_data.FieldGoalDistance.shape"
   ]
  },
  {
   "cell_type": "code",
   "execution_count": 43,
   "metadata": {},
   "outputs": [
    {
     "output_type": "execute_result",
     "data": {
      "text/plain": "(407688,)"
     },
     "metadata": {},
     "execution_count": 43
    }
   ],
   "source": [
    "Pos_replace = nfl_data.PosTeamScore.median()\n",
    "nfl_data.PosTeamScore.replace(np.nan,Pos_replace,inplace=True)\n",
    "nfl_data.PosTeamScore.shape"
   ]
  },
  {
   "cell_type": "code",
   "execution_count": 49,
   "metadata": {},
   "outputs": [
    {
     "output_type": "execute_result",
     "data": {
      "text/plain": "(407688,)"
     },
     "metadata": {},
     "execution_count": 49
    }
   ],
   "source": [
    "Def_replace = nfl_data.PosTeamScore.mean()\n",
    "nfl_data.DefTeamScore.replace(np.nan,Def_replace,inplace=True)\n",
    "nfl_data.DefTeamScore.shape"
   ]
  },
  {
   "cell_type": "code",
   "execution_count": 53,
   "metadata": {},
   "outputs": [
    {
     "output_type": "execute_result",
     "data": {
      "text/plain": "(407688,)"
     },
     "metadata": {},
     "execution_count": 53
    }
   ],
   "source": [
    "avg_air = nfl_data.airEPA.mean()\n",
    "nfl_data.airEPA.replace(np.nan,avg_air,inplace=True)\n",
    "nfl_data.airEPA.shape"
   ]
  },
  {
   "cell_type": "code",
   "execution_count": 55,
   "metadata": {},
   "outputs": [
    {
     "output_type": "execute_result",
     "data": {
      "text/plain": "(407688,)"
     },
     "metadata": {},
     "execution_count": 55
    }
   ],
   "source": [
    "yac_replace = nfl_data.yacEPA.value_counts().idxmin()\n",
    "nfl_data.yacEPA.replace(np.nan,yac_replace,inplace=True)\n",
    "nfl_data.yacEPA.shape"
   ]
  },
  {
   "cell_type": "code",
   "execution_count": 60,
   "metadata": {},
   "outputs": [
    {
     "output_type": "execute_result",
     "data": {
      "text/plain": "(407688,)"
     },
     "metadata": {},
     "execution_count": 60
    }
   ],
   "source": [
    "home_replace = nfl_data.Home_WP_pre.value_counts().idxmin()\n",
    "nfl_data.Home_WP_pre.replace(np.nan,home_replace,inplace=True)\n",
    "nfl_data.Home_WP_pre.shape"
   ]
  },
  {
   "cell_type": "code",
   "execution_count": 64,
   "metadata": {},
   "outputs": [
    {
     "output_type": "execute_result",
     "data": {
      "text/plain": "(407688,)"
     },
     "metadata": {},
     "execution_count": 64
    }
   ],
   "source": [
    "First_replace = nfl_data.FirstDown.value_counts().idxmin()\n",
    "nfl_data.FirstDown.replace(np.nan,First_replace,inplace=True)\n",
    "nfl_data.FirstDown.shape"
   ]
  },
  {
   "cell_type": "code",
   "execution_count": 74,
   "metadata": {},
   "outputs": [
    {
     "output_type": "execute_result",
     "data": {
      "text/plain": "Index(['down', 'TimeSecs', 'PlayTimeDiff', 'yrdln', 'yrdline100', 'GoalToGo',\n       'FirstDown', 'FieldGoalDistance', 'PosTeamScore', 'DefTeamScore',\n       'ScoreDiff', 'AbsScoreDiff', 'No_Score_Prob', 'Opp_Field_Goal_Prob',\n       'Opp_Safety_Prob', 'Opp_Touchdown_Prob', 'Field_Goal_Prob',\n       'Safety_Prob', 'Touchdown_Prob', 'ExPoint_Prob', 'TwoPoint_Prob',\n       'ExpPts', 'EPA', 'airEPA', 'yacEPA', 'Home_WP_pre', 'Away_WP_pre',\n       'Home_WP_post', 'Away_WP_post', 'Win_Prob', 'WPA', 'airWPA', 'yacWPA'],\n      dtype='object')"
     },
     "metadata": {},
     "execution_count": 74
    }
   ],
   "source": [
    "nfl_data.describe(include='float64').columns"
   ]
  },
  {
   "cell_type": "code",
   "execution_count": 77,
   "metadata": {},
   "outputs": [
    {
     "output_type": "execute_result",
     "data": {
      "text/plain": "(407688,)"
     },
     "metadata": {},
     "execution_count": 77
    }
   ],
   "source": [
    "Away_replace = nfl_data.Away_WP_pre.value_counts().idxmin()\n",
    "nfl_data.Away_WP_pre.replace(np.nan,Away_replace,inplace=True)\n",
    "nfl_data.Away_WP_pre.shape"
   ]
  },
  {
   "cell_type": "code",
   "execution_count": 78,
   "metadata": {},
   "outputs": [
    {
     "output_type": "execute_result",
     "data": {
      "text/plain": "(407688,)"
     },
     "metadata": {},
     "execution_count": 78
    }
   ],
   "source": [
    "Awayp_replace = nfl_data.Away_WP_post.value_counts().idxmin()\n",
    "nfl_data.Away_WP_post.replace(np.nan,Awayp_replace,inplace=True)\n",
    "nfl_data.Away_WP_post.shape"
   ]
  },
  {
   "cell_type": "code",
   "execution_count": 79,
   "metadata": {},
   "outputs": [
    {
     "output_type": "execute_result",
     "data": {
      "text/plain": "(407688,)"
     },
     "metadata": {},
     "execution_count": 79
    }
   ],
   "source": [
    "Win_replace = nfl_data.Win_Prob.value_counts().idxmin()\n",
    "nfl_data.Win_Prob.replace(np.nan,Win_replace,inplace=True)\n",
    "nfl_data.Win_Prob.shape"
   ]
  },
  {
   "cell_type": "code",
   "execution_count": 80,
   "metadata": {},
   "outputs": [
    {
     "output_type": "execute_result",
     "data": {
      "text/plain": "(407688,)"
     },
     "metadata": {},
     "execution_count": 80
    }
   ],
   "source": [
    "WPA_replace = nfl_data.WPA.value_counts().idxmin()\n",
    "nfl_data.WPA.replace(np.nan,WPA_replace,inplace=True)\n",
    "nfl_data.WPA.shape"
   ]
  },
  {
   "cell_type": "code",
   "execution_count": 81,
   "metadata": {},
   "outputs": [
    {
     "output_type": "execute_result",
     "data": {
      "text/plain": "(407688,)"
     },
     "metadata": {},
     "execution_count": 81
    }
   ],
   "source": [
    "airWPA_replace = nfl_data.airWPA.value_counts().idxmin()\n",
    "nfl_data.airWPA.replace(np.nan,airWPA_replace,inplace=True)\n",
    "nfl_data.airWPA.shape"
   ]
  },
  {
   "cell_type": "code",
   "execution_count": 82,
   "metadata": {},
   "outputs": [
    {
     "output_type": "execute_result",
     "data": {
      "text/plain": "(407688,)"
     },
     "metadata": {},
     "execution_count": 82
    }
   ],
   "source": [
    "yacWPA_replace = nfl_data.yacWPA.value_counts().idxmin()\n",
    "nfl_data.yacWPA.replace(np.nan,yacWPA_replace,inplace=True)\n",
    "nfl_data.yacWPA.shape"
   ]
  },
  {
   "cell_type": "code",
   "execution_count": 83,
   "metadata": {},
   "outputs": [
    {
     "output_type": "execute_result",
     "data": {
      "text/plain": "                down       TimeSecs   PlayTimeDiff          yrdln  \\\ncount  407688.000000  407688.000000  407688.000000  407688.000000   \nmean        1.852103    1695.268944      20.576762      28.488327   \nstd         0.994467    1062.508999      17.959538      12.933126   \nmin         1.000000    -900.000000       0.000000       1.000000   \n25%         1.000000     779.000000       5.000000      20.000000   \n50%         2.000000    1800.000000      17.000000      30.000000   \n75%         3.000000    2584.000000      37.000000      39.000000   \nmax         4.000000    3600.000000     943.000000      50.000000   \n\n          yrdline100       GoalToGo      FirstDown  FieldGoalDistance  \\\ncount  407688.000000  407688.000000  407688.000000      407688.000000   \nmean       48.644081       0.049033       0.340648          47.768779   \nstd        25.044576       0.215936       0.473928           2.168600   \nmin         1.000000       0.000000       0.000000          18.000000   \n25%        30.000000       0.000000       0.000000          48.000000   \n50%        49.000000       0.000000       0.000000          48.000000   \n75%        70.000000       0.000000       1.000000          48.000000   \nmax        99.000000       1.000000       1.000000          71.000000   \n\n        PosTeamScore   DefTeamScore  ...         airEPA         yacEPA  \\\ncount  407688.000000  407688.000000  ...  407688.000000  407688.000000   \nmean        9.990157      11.320491  ...       0.524818      -2.182910   \nstd         9.150121       9.584683  ...       0.871459       1.894151   \nmin         0.000000       0.000000  ...     -12.849594     -14.000000   \n25%         3.000000       3.000000  ...       0.524818      -3.333971   \n50%         7.000000       9.990157  ...       0.524818      -3.333971   \n75%        16.000000      17.000000  ...       0.524818      -0.000632   \nmax        61.000000      61.000000  ...       7.346969       9.559834   \n\n         Home_WP_pre    Away_WP_pre   Home_WP_post   Away_WP_post  \\\ncount  407688.000000  407688.000000  407688.000000  407688.000000   \nmean        0.527224       0.464765       0.564828       0.462604   \nstd         0.278155       0.276789       0.300616       0.278555   \nmin         0.000000       0.000000       0.000000       0.000000   \n25%         0.347561       0.251498       0.345892       0.249282   \n50%         0.511398       0.446361       0.560803       0.439516   \n75%         0.749052       0.652947       0.832873       0.654679   \nmax         1.000000       1.000000       1.000000       1.000000   \n\n            Win_Prob            WPA         airWPA         yacWPA  \ncount  407688.000000  407688.000000  407688.000000  407688.000000  \nmean        0.517641       0.002115      -0.025975       0.001263  \nstd         0.285713       0.045054       0.048255       0.043566  \nmin         0.000000      -0.997214      -0.999881      -0.986673  \n25%         0.293279      -0.014439      -0.052309       0.004059  \n50%         0.525956       0.000000      -0.052309       0.008766  \n75%         0.767376       0.014243      -0.003159       0.008766  \nmax         1.000000       0.994848       0.994848       1.000000  \n\n[8 rows x 33 columns]",
      "text/html": "<div>\n<style scoped>\n    .dataframe tbody tr th:only-of-type {\n        vertical-align: middle;\n    }\n\n    .dataframe tbody tr th {\n        vertical-align: top;\n    }\n\n    .dataframe thead th {\n        text-align: right;\n    }\n</style>\n<table border=\"1\" class=\"dataframe\">\n  <thead>\n    <tr style=\"text-align: right;\">\n      <th></th>\n      <th>down</th>\n      <th>TimeSecs</th>\n      <th>PlayTimeDiff</th>\n      <th>yrdln</th>\n      <th>yrdline100</th>\n      <th>GoalToGo</th>\n      <th>FirstDown</th>\n      <th>FieldGoalDistance</th>\n      <th>PosTeamScore</th>\n      <th>DefTeamScore</th>\n      <th>...</th>\n      <th>airEPA</th>\n      <th>yacEPA</th>\n      <th>Home_WP_pre</th>\n      <th>Away_WP_pre</th>\n      <th>Home_WP_post</th>\n      <th>Away_WP_post</th>\n      <th>Win_Prob</th>\n      <th>WPA</th>\n      <th>airWPA</th>\n      <th>yacWPA</th>\n    </tr>\n  </thead>\n  <tbody>\n    <tr>\n      <th>count</th>\n      <td>407688.000000</td>\n      <td>407688.000000</td>\n      <td>407688.000000</td>\n      <td>407688.000000</td>\n      <td>407688.000000</td>\n      <td>407688.000000</td>\n      <td>407688.000000</td>\n      <td>407688.000000</td>\n      <td>407688.000000</td>\n      <td>407688.000000</td>\n      <td>...</td>\n      <td>407688.000000</td>\n      <td>407688.000000</td>\n      <td>407688.000000</td>\n      <td>407688.000000</td>\n      <td>407688.000000</td>\n      <td>407688.000000</td>\n      <td>407688.000000</td>\n      <td>407688.000000</td>\n      <td>407688.000000</td>\n      <td>407688.000000</td>\n    </tr>\n    <tr>\n      <th>mean</th>\n      <td>1.852103</td>\n      <td>1695.268944</td>\n      <td>20.576762</td>\n      <td>28.488327</td>\n      <td>48.644081</td>\n      <td>0.049033</td>\n      <td>0.340648</td>\n      <td>47.768779</td>\n      <td>9.990157</td>\n      <td>11.320491</td>\n      <td>...</td>\n      <td>0.524818</td>\n      <td>-2.182910</td>\n      <td>0.527224</td>\n      <td>0.464765</td>\n      <td>0.564828</td>\n      <td>0.462604</td>\n      <td>0.517641</td>\n      <td>0.002115</td>\n      <td>-0.025975</td>\n      <td>0.001263</td>\n    </tr>\n    <tr>\n      <th>std</th>\n      <td>0.994467</td>\n      <td>1062.508999</td>\n      <td>17.959538</td>\n      <td>12.933126</td>\n      <td>25.044576</td>\n      <td>0.215936</td>\n      <td>0.473928</td>\n      <td>2.168600</td>\n      <td>9.150121</td>\n      <td>9.584683</td>\n      <td>...</td>\n      <td>0.871459</td>\n      <td>1.894151</td>\n      <td>0.278155</td>\n      <td>0.276789</td>\n      <td>0.300616</td>\n      <td>0.278555</td>\n      <td>0.285713</td>\n      <td>0.045054</td>\n      <td>0.048255</td>\n      <td>0.043566</td>\n    </tr>\n    <tr>\n      <th>min</th>\n      <td>1.000000</td>\n      <td>-900.000000</td>\n      <td>0.000000</td>\n      <td>1.000000</td>\n      <td>1.000000</td>\n      <td>0.000000</td>\n      <td>0.000000</td>\n      <td>18.000000</td>\n      <td>0.000000</td>\n      <td>0.000000</td>\n      <td>...</td>\n      <td>-12.849594</td>\n      <td>-14.000000</td>\n      <td>0.000000</td>\n      <td>0.000000</td>\n      <td>0.000000</td>\n      <td>0.000000</td>\n      <td>0.000000</td>\n      <td>-0.997214</td>\n      <td>-0.999881</td>\n      <td>-0.986673</td>\n    </tr>\n    <tr>\n      <th>25%</th>\n      <td>1.000000</td>\n      <td>779.000000</td>\n      <td>5.000000</td>\n      <td>20.000000</td>\n      <td>30.000000</td>\n      <td>0.000000</td>\n      <td>0.000000</td>\n      <td>48.000000</td>\n      <td>3.000000</td>\n      <td>3.000000</td>\n      <td>...</td>\n      <td>0.524818</td>\n      <td>-3.333971</td>\n      <td>0.347561</td>\n      <td>0.251498</td>\n      <td>0.345892</td>\n      <td>0.249282</td>\n      <td>0.293279</td>\n      <td>-0.014439</td>\n      <td>-0.052309</td>\n      <td>0.004059</td>\n    </tr>\n    <tr>\n      <th>50%</th>\n      <td>2.000000</td>\n      <td>1800.000000</td>\n      <td>17.000000</td>\n      <td>30.000000</td>\n      <td>49.000000</td>\n      <td>0.000000</td>\n      <td>0.000000</td>\n      <td>48.000000</td>\n      <td>7.000000</td>\n      <td>9.990157</td>\n      <td>...</td>\n      <td>0.524818</td>\n      <td>-3.333971</td>\n      <td>0.511398</td>\n      <td>0.446361</td>\n      <td>0.560803</td>\n      <td>0.439516</td>\n      <td>0.525956</td>\n      <td>0.000000</td>\n      <td>-0.052309</td>\n      <td>0.008766</td>\n    </tr>\n    <tr>\n      <th>75%</th>\n      <td>3.000000</td>\n      <td>2584.000000</td>\n      <td>37.000000</td>\n      <td>39.000000</td>\n      <td>70.000000</td>\n      <td>0.000000</td>\n      <td>1.000000</td>\n      <td>48.000000</td>\n      <td>16.000000</td>\n      <td>17.000000</td>\n      <td>...</td>\n      <td>0.524818</td>\n      <td>-0.000632</td>\n      <td>0.749052</td>\n      <td>0.652947</td>\n      <td>0.832873</td>\n      <td>0.654679</td>\n      <td>0.767376</td>\n      <td>0.014243</td>\n      <td>-0.003159</td>\n      <td>0.008766</td>\n    </tr>\n    <tr>\n      <th>max</th>\n      <td>4.000000</td>\n      <td>3600.000000</td>\n      <td>943.000000</td>\n      <td>50.000000</td>\n      <td>99.000000</td>\n      <td>1.000000</td>\n      <td>1.000000</td>\n      <td>71.000000</td>\n      <td>61.000000</td>\n      <td>61.000000</td>\n      <td>...</td>\n      <td>7.346969</td>\n      <td>9.559834</td>\n      <td>1.000000</td>\n      <td>1.000000</td>\n      <td>1.000000</td>\n      <td>1.000000</td>\n      <td>1.000000</td>\n      <td>0.994848</td>\n      <td>0.994848</td>\n      <td>1.000000</td>\n    </tr>\n  </tbody>\n</table>\n<p>8 rows × 33 columns</p>\n</div>"
     },
     "metadata": {},
     "execution_count": 83
    }
   ],
   "source": [
    "nfl_data.describe(include='float64')"
   ]
  },
  {
   "cell_type": "code",
   "execution_count": 85,
   "metadata": {},
   "outputs": [
    {
     "output_type": "execute_result",
     "data": {
      "text/plain": "(407688,)"
     },
     "metadata": {},
     "execution_count": 85
    }
   ],
   "source": [
    "score_replace = nfl_data.ScoreDiff.value_counts().idxmax()\n",
    "nfl_data.ScoreDiff.replace(np.nan,score_replace,inplace=True)\n",
    "nfl_data.ScoreDiff.shape"
   ]
  },
  {
   "cell_type": "code",
   "execution_count": 90,
   "metadata": {},
   "outputs": [
    {
     "output_type": "execute_result",
     "data": {
      "text/plain": "(407688,)"
     },
     "metadata": {},
     "execution_count": 90
    }
   ],
   "source": [
    "Abs_avg = nfl_data.AbsScoreDiff.mean()\n",
    "nfl_data.AbsScoreDiff.replace(np.nan,Abs_avg,inplace=True)\n",
    "nfl_data.AbsScoreDiff.shape"
   ]
  },
  {
   "cell_type": "code",
   "execution_count": 92,
   "metadata": {},
   "outputs": [
    {
     "output_type": "execute_result",
     "data": {
      "text/plain": "(407688,)"
     },
     "metadata": {},
     "execution_count": 92
    }
   ],
   "source": [
    "No_score_avg = nfl_data.No_Score_Prob.mean()\n",
    "nfl_data.No_Score_Prob.replace(np.nan,No_score_avg,inplace=True)\n",
    "nfl_data.No_Score_Prob.shape"
   ]
  },
  {
   "cell_type": "code",
   "execution_count": 93,
   "metadata": {},
   "outputs": [
    {
     "output_type": "execute_result",
     "data": {
      "text/plain": "(407688,)"
     },
     "metadata": {},
     "execution_count": 93
    }
   ],
   "source": [
    "opp_avg = nfl_data.Opp_Field_Goal_Prob.mean()\n",
    "nfl_data.Opp_Field_Goal_Prob.replace(np.nan,opp_avg,inplace=True)\n",
    "nfl_data.Opp_Field_Goal_Prob.shape"
   ]
  },
  {
   "cell_type": "code",
   "execution_count": 94,
   "metadata": {},
   "outputs": [
    {
     "output_type": "execute_result",
     "data": {
      "text/plain": "(407688,)"
     },
     "metadata": {},
     "execution_count": 94
    }
   ],
   "source": [
    "safety_avg = nfl_data.Opp_Safety_Prob.mean()\n",
    "nfl_data.Opp_Safety_Prob.replace(np.nan,safety_avg,inplace=True)\n",
    "nfl_data.Opp_Safety_Prob.shape"
   ]
  },
  {
   "cell_type": "code",
   "execution_count": 95,
   "metadata": {},
   "outputs": [
    {
     "output_type": "execute_result",
     "data": {
      "text/plain": "(407688,)"
     },
     "metadata": {},
     "execution_count": 95
    }
   ],
   "source": [
    "touchdown_avg = nfl_data.Opp_Touchdown_Prob.mean()\n",
    "nfl_data.Opp_Touchdown_Prob.replace(np.nan,touchdown_avg,inplace=True)\n",
    "nfl_data.Opp_Touchdown_Prob.shape"
   ]
  },
  {
   "cell_type": "code",
   "execution_count": 97,
   "metadata": {},
   "outputs": [
    {
     "output_type": "execute_result",
     "data": {
      "text/plain": "(407688,)"
     },
     "metadata": {},
     "execution_count": 97
    }
   ],
   "source": [
    "Field_Goal_replace = nfl_data.Field_Goal_Prob.value_counts().idxmax()\n",
    "nfl_data.Field_Goal_Prob.replace(np.nan,Field_Goal_replace,inplace=True)\n",
    "nfl_data.Field_Goal_Prob.shape"
   ]
  },
  {
   "cell_type": "code",
   "execution_count": 100,
   "metadata": {},
   "outputs": [
    {
     "output_type": "execute_result",
     "data": {
      "text/plain": "(407688,)"
     },
     "metadata": {},
     "execution_count": 100
    }
   ],
   "source": [
    "safety_replace = nfl_data.Safety_Prob.value_counts().idxmax()\n",
    "nfl_data.Safety_Prob.replace(np.nan,safety_replace,inplace=True)\n",
    "nfl_data.Safety_Prob.shape"
   ]
  },
  {
   "cell_type": "code",
   "execution_count": 101,
   "metadata": {},
   "outputs": [
    {
     "output_type": "execute_result",
     "data": {
      "text/plain": "(407688,)"
     },
     "metadata": {},
     "execution_count": 101
    }
   ],
   "source": [
    "td_replace = nfl_data.Touchdown_Prob.value_counts().idxmax()\n",
    "nfl_data.Touchdown_Prob.replace(np.nan,td_replace,inplace=True)\n",
    "nfl_data.Touchdown_Prob.shape"
   ]
  },
  {
   "cell_type": "code",
   "execution_count": 103,
   "metadata": {},
   "outputs": [
    {
     "output_type": "execute_result",
     "data": {
      "text/plain": "(407688,)"
     },
     "metadata": {},
     "execution_count": 103
    }
   ],
   "source": [
    "ExPoint_replace = nfl_data.ExPoint_Prob.value_counts().idxmax()\n",
    "nfl_data.ExPoint_Prob.replace(np.nan,ExPoint_replace,inplace=True)\n",
    "nfl_data.ExPoint_Prob.shape"
   ]
  },
  {
   "cell_type": "code",
   "execution_count": 104,
   "metadata": {},
   "outputs": [
    {
     "output_type": "execute_result",
     "data": {
      "text/plain": "(407688,)"
     },
     "metadata": {},
     "execution_count": 104
    }
   ],
   "source": [
    "TwoPoint_replace = nfl_data.TwoPoint_Prob.value_counts().idxmax()\n",
    "nfl_data.TwoPoint_Prob.replace(np.nan,TwoPoint_replace,inplace=True)\n",
    "nfl_data.TwoPoint_Prob.shape"
   ]
  },
  {
   "cell_type": "code",
   "execution_count": 107,
   "metadata": {},
   "outputs": [
    {
     "output_type": "execute_result",
     "data": {
      "text/plain": "(407688,)"
     },
     "metadata": {},
     "execution_count": 107
    }
   ],
   "source": [
    "ExpPts_replace = nfl_data.ExpPts.value_counts().idxmax()\n",
    "nfl_data.ExpPts.replace(np.nan,ExpPts_replace,inplace=True)\n",
    "nfl_data.ExpPts.shape"
   ]
  },
  {
   "cell_type": "code",
   "execution_count": 108,
   "metadata": {},
   "outputs": [
    {
     "output_type": "execute_result",
     "data": {
      "text/plain": "                down       TimeSecs   PlayTimeDiff          yrdln  \\\ncount  407688.000000  407688.000000  407688.000000  407688.000000   \nmean        1.852103    1695.268944      20.576762      28.488327   \nstd         0.994467    1062.508999      17.959538      12.933126   \nmin         1.000000    -900.000000       0.000000       1.000000   \n25%         1.000000     779.000000       5.000000      20.000000   \n50%         2.000000    1800.000000      17.000000      30.000000   \n75%         3.000000    2584.000000      37.000000      39.000000   \nmax         4.000000    3600.000000     943.000000      50.000000   \n\n          yrdline100       GoalToGo      FirstDown  FieldGoalDistance  \\\ncount  407688.000000  407688.000000  407688.000000      407688.000000   \nmean       48.644081       0.049033       0.340648          47.768779   \nstd        25.044576       0.215936       0.473928           2.168600   \nmin         1.000000       0.000000       0.000000          18.000000   \n25%        30.000000       0.000000       0.000000          48.000000   \n50%        49.000000       0.000000       0.000000          48.000000   \n75%        70.000000       0.000000       1.000000          48.000000   \nmax        99.000000       1.000000       1.000000          71.000000   \n\n        PosTeamScore   DefTeamScore  ...         airEPA         yacEPA  \\\ncount  407688.000000  407688.000000  ...  407688.000000  407688.000000   \nmean        9.990157      11.320491  ...       0.524818      -2.182910   \nstd         9.150121       9.584683  ...       0.871459       1.894151   \nmin         0.000000       0.000000  ...     -12.849594     -14.000000   \n25%         3.000000       3.000000  ...       0.524818      -3.333971   \n50%         7.000000       9.990157  ...       0.524818      -3.333971   \n75%        16.000000      17.000000  ...       0.524818      -0.000632   \nmax        61.000000      61.000000  ...       7.346969       9.559834   \n\n         Home_WP_pre    Away_WP_pre   Home_WP_post   Away_WP_post  \\\ncount  407688.000000  407688.000000  407688.000000  407688.000000   \nmean        0.527224       0.464765       0.564828       0.462604   \nstd         0.278155       0.276789       0.300616       0.278555   \nmin         0.000000       0.000000       0.000000       0.000000   \n25%         0.347561       0.251498       0.345892       0.249282   \n50%         0.511398       0.446361       0.560803       0.439516   \n75%         0.749052       0.652947       0.832873       0.654679   \nmax         1.000000       1.000000       1.000000       1.000000   \n\n            Win_Prob            WPA         airWPA         yacWPA  \ncount  407688.000000  407688.000000  407688.000000  407688.000000  \nmean        0.517641       0.002115      -0.025975       0.001263  \nstd         0.285713       0.045054       0.048255       0.043566  \nmin         0.000000      -0.997214      -0.999881      -0.986673  \n25%         0.293279      -0.014439      -0.052309       0.004059  \n50%         0.525956       0.000000      -0.052309       0.008766  \n75%         0.767376       0.014243      -0.003159       0.008766  \nmax         1.000000       0.994848       0.994848       1.000000  \n\n[8 rows x 33 columns]",
      "text/html": "<div>\n<style scoped>\n    .dataframe tbody tr th:only-of-type {\n        vertical-align: middle;\n    }\n\n    .dataframe tbody tr th {\n        vertical-align: top;\n    }\n\n    .dataframe thead th {\n        text-align: right;\n    }\n</style>\n<table border=\"1\" class=\"dataframe\">\n  <thead>\n    <tr style=\"text-align: right;\">\n      <th></th>\n      <th>down</th>\n      <th>TimeSecs</th>\n      <th>PlayTimeDiff</th>\n      <th>yrdln</th>\n      <th>yrdline100</th>\n      <th>GoalToGo</th>\n      <th>FirstDown</th>\n      <th>FieldGoalDistance</th>\n      <th>PosTeamScore</th>\n      <th>DefTeamScore</th>\n      <th>...</th>\n      <th>airEPA</th>\n      <th>yacEPA</th>\n      <th>Home_WP_pre</th>\n      <th>Away_WP_pre</th>\n      <th>Home_WP_post</th>\n      <th>Away_WP_post</th>\n      <th>Win_Prob</th>\n      <th>WPA</th>\n      <th>airWPA</th>\n      <th>yacWPA</th>\n    </tr>\n  </thead>\n  <tbody>\n    <tr>\n      <th>count</th>\n      <td>407688.000000</td>\n      <td>407688.000000</td>\n      <td>407688.000000</td>\n      <td>407688.000000</td>\n      <td>407688.000000</td>\n      <td>407688.000000</td>\n      <td>407688.000000</td>\n      <td>407688.000000</td>\n      <td>407688.000000</td>\n      <td>407688.000000</td>\n      <td>...</td>\n      <td>407688.000000</td>\n      <td>407688.000000</td>\n      <td>407688.000000</td>\n      <td>407688.000000</td>\n      <td>407688.000000</td>\n      <td>407688.000000</td>\n      <td>407688.000000</td>\n      <td>407688.000000</td>\n      <td>407688.000000</td>\n      <td>407688.000000</td>\n    </tr>\n    <tr>\n      <th>mean</th>\n      <td>1.852103</td>\n      <td>1695.268944</td>\n      <td>20.576762</td>\n      <td>28.488327</td>\n      <td>48.644081</td>\n      <td>0.049033</td>\n      <td>0.340648</td>\n      <td>47.768779</td>\n      <td>9.990157</td>\n      <td>11.320491</td>\n      <td>...</td>\n      <td>0.524818</td>\n      <td>-2.182910</td>\n      <td>0.527224</td>\n      <td>0.464765</td>\n      <td>0.564828</td>\n      <td>0.462604</td>\n      <td>0.517641</td>\n      <td>0.002115</td>\n      <td>-0.025975</td>\n      <td>0.001263</td>\n    </tr>\n    <tr>\n      <th>std</th>\n      <td>0.994467</td>\n      <td>1062.508999</td>\n      <td>17.959538</td>\n      <td>12.933126</td>\n      <td>25.044576</td>\n      <td>0.215936</td>\n      <td>0.473928</td>\n      <td>2.168600</td>\n      <td>9.150121</td>\n      <td>9.584683</td>\n      <td>...</td>\n      <td>0.871459</td>\n      <td>1.894151</td>\n      <td>0.278155</td>\n      <td>0.276789</td>\n      <td>0.300616</td>\n      <td>0.278555</td>\n      <td>0.285713</td>\n      <td>0.045054</td>\n      <td>0.048255</td>\n      <td>0.043566</td>\n    </tr>\n    <tr>\n      <th>min</th>\n      <td>1.000000</td>\n      <td>-900.000000</td>\n      <td>0.000000</td>\n      <td>1.000000</td>\n      <td>1.000000</td>\n      <td>0.000000</td>\n      <td>0.000000</td>\n      <td>18.000000</td>\n      <td>0.000000</td>\n      <td>0.000000</td>\n      <td>...</td>\n      <td>-12.849594</td>\n      <td>-14.000000</td>\n      <td>0.000000</td>\n      <td>0.000000</td>\n      <td>0.000000</td>\n      <td>0.000000</td>\n      <td>0.000000</td>\n      <td>-0.997214</td>\n      <td>-0.999881</td>\n      <td>-0.986673</td>\n    </tr>\n    <tr>\n      <th>25%</th>\n      <td>1.000000</td>\n      <td>779.000000</td>\n      <td>5.000000</td>\n      <td>20.000000</td>\n      <td>30.000000</td>\n      <td>0.000000</td>\n      <td>0.000000</td>\n      <td>48.000000</td>\n      <td>3.000000</td>\n      <td>3.000000</td>\n      <td>...</td>\n      <td>0.524818</td>\n      <td>-3.333971</td>\n      <td>0.347561</td>\n      <td>0.251498</td>\n      <td>0.345892</td>\n      <td>0.249282</td>\n      <td>0.293279</td>\n      <td>-0.014439</td>\n      <td>-0.052309</td>\n      <td>0.004059</td>\n    </tr>\n    <tr>\n      <th>50%</th>\n      <td>2.000000</td>\n      <td>1800.000000</td>\n      <td>17.000000</td>\n      <td>30.000000</td>\n      <td>49.000000</td>\n      <td>0.000000</td>\n      <td>0.000000</td>\n      <td>48.000000</td>\n      <td>7.000000</td>\n      <td>9.990157</td>\n      <td>...</td>\n      <td>0.524818</td>\n      <td>-3.333971</td>\n      <td>0.511398</td>\n      <td>0.446361</td>\n      <td>0.560803</td>\n      <td>0.439516</td>\n      <td>0.525956</td>\n      <td>0.000000</td>\n      <td>-0.052309</td>\n      <td>0.008766</td>\n    </tr>\n    <tr>\n      <th>75%</th>\n      <td>3.000000</td>\n      <td>2584.000000</td>\n      <td>37.000000</td>\n      <td>39.000000</td>\n      <td>70.000000</td>\n      <td>0.000000</td>\n      <td>1.000000</td>\n      <td>48.000000</td>\n      <td>16.000000</td>\n      <td>17.000000</td>\n      <td>...</td>\n      <td>0.524818</td>\n      <td>-0.000632</td>\n      <td>0.749052</td>\n      <td>0.652947</td>\n      <td>0.832873</td>\n      <td>0.654679</td>\n      <td>0.767376</td>\n      <td>0.014243</td>\n      <td>-0.003159</td>\n      <td>0.008766</td>\n    </tr>\n    <tr>\n      <th>max</th>\n      <td>4.000000</td>\n      <td>3600.000000</td>\n      <td>943.000000</td>\n      <td>50.000000</td>\n      <td>99.000000</td>\n      <td>1.000000</td>\n      <td>1.000000</td>\n      <td>71.000000</td>\n      <td>61.000000</td>\n      <td>61.000000</td>\n      <td>...</td>\n      <td>7.346969</td>\n      <td>9.559834</td>\n      <td>1.000000</td>\n      <td>1.000000</td>\n      <td>1.000000</td>\n      <td>1.000000</td>\n      <td>1.000000</td>\n      <td>0.994848</td>\n      <td>0.994848</td>\n      <td>1.000000</td>\n    </tr>\n  </tbody>\n</table>\n<p>8 rows × 33 columns</p>\n</div>"
     },
     "metadata": {},
     "execution_count": 108
    }
   ],
   "source": [
    "nfl_data.describe(include='float64')"
   ]
  },
  {
   "cell_type": "code",
   "execution_count": null,
   "metadata": {},
   "outputs": [],
   "source": []
  }
 ]
}