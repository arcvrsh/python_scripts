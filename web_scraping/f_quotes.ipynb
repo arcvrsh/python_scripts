{
 "metadata": {
  "language_info": {
   "codemirror_mode": {
    "name": "ipython",
    "version": 3
   },
   "file_extension": ".py",
   "mimetype": "text/x-python",
   "name": "python",
   "nbconvert_exporter": "python",
   "pygments_lexer": "ipython3",
   "version": "3.8.0-final"
  },
  "orig_nbformat": 2,
  "kernelspec": {
   "name": "python3",
   "display_name": "Python 3.8.0 64-bit",
   "metadata": {
    "interpreter": {
     "hash": "4d21c5017a3395ea95cb512be2638581094a384049928509a361c83b57b948d5"
    }
   }
  }
 },
 "nbformat": 4,
 "nbformat_minor": 2,
 "cells": [
  {
   "cell_type": "code",
   "execution_count": 2,
   "metadata": {
    "tags": []
   },
   "outputs": [
    {
     "output_type": "stream",
     "name": "stdout",
     "text": [
      "keep-inspiring-me-logo\nQuotes\nFamous Quotes\nInspirational\nMotivational\nRelationship\nFeelings & Qualities\nSeasons\nCulture Quotes\nQuote of the Day\nAll Topics\nArticles\nGrowth\nHealth\nProductivity\nSuccess\nReviews\nHome\n\n51\n\nQuotes\nHannah Hutyra\ndisclosure\n\n\n\n\nAbraham Lincoln\n\n\n\n\n\n\nWinston Churchill\n\n\n\n\n\n\n\n\nOprah Winfrey\n\nAbraham Lincoln Quotes\nAnaïs Nin Quotes\nAristotle Quotes\nAudrey Hepburn Quotes\nAyn Rand Quotes\nBenjamin Franklin Quotes\nBob Marley Quotes\nBruce Lee Quotes\nBuddha Quotes\nC.S. Lewis Quotes\nConfucius Quotes\nDale Carnegie Quotes\nDr. Seuss Quotes\nGeorge Washington Quotes\nHelen Keller Quotes\nJohn F. Kennedy Quotes\nJohn Lennon Quotes\nJohnny Cash Quotes\nJulia Child Quotes\nLao Tzu Quotes\nLord Byron Quotes\nMalcolm X Quotes\nMargaret Thatcher Quotes\nMarilyn Monroe Quotes\nMark Cuban Quotes\nMark Twain Quotes\nMartin Luther King Jr. Quotes\nMaya Angelou Quotes\nMichael Jordan Quotes\nMother Theresa Quotes\nOprah Winfrey Quotes\nOscar Wilde Quotes\nRalph Waldo Emerson Quotes\nRumi Quotes\nSocrates Quotes\nThomas Jefferson Quotes\nTupac Quotes\nVince Lombardi Quotes\nVoltaire Quotes\nWalt Disney Quotes\nWinston Churchill Quotes\nZig Ziglar Quotes\nQuote of the Day\nMotivational Quotes\nQuotes for Occasions\nInspirational Quotes\nRelationship Quotes\nQuotes About Feelings\nCulture Quotes\nMore Quotes by Topic\nClick here to cancel reply.\n\nDecember 10, 2017 at 6:09 pm \nReply\n\nMay 31, 2018 at 10:14 pm \nReply\n\nJuly 21, 2018 at 1:39 am \nReply\n\nOctober 8, 2018 at 8:00 pm \nReply\n\nOctober 14, 2018 at 9:35 am \nReply\n\nOctober 26, 2018 at 2:43 pm \nReply\n\nOctober 31, 2018 at 2:28 pm \nReply\n\nDecember 30, 2018 at 4:27 am \nReply\n\nJanuary 18, 2019 at 10:35 pm \nReply\n\nJanuary 24, 2019 at 4:09 am \nReply\n\nJanuary 30, 2019 at 11:16 pm \nReply\n\nFebruary 3, 2019 at 12:31 am \nReply\n\nFebruary 25, 2019 at 4:19 am \nReply\n\nFebruary 25, 2019 at 8:51 am \nReply\n\nMarch 13, 2019 at 9:33 am \nReply\n\nMarch 26, 2019 at 5:45 am \nReply\n\nMarch 31, 2019 at 12:16 am \nReply\n\nApril 2, 2019 at 12:02 am \nReply\n\nApril 11, 2019 at 12:02 pm \nReply\n\nApril 18, 2019 at 3:59 am \nReply\n\nMay 9, 2019 at 9:54 am \nReply\n\nMay 11, 2019 at 1:33 pm \nReply\n\nMay 11, 2019 at 1:34 pm \nReply\n\nMay 21, 2019 at 6:03 pm \nReply\n\nMay 26, 2019 at 9:07 am \nReply\n\nMay 27, 2019 at 10:24 am \nReply\n\nJune 3, 2019 at 8:50 am \nReply\n\nJune 3, 2019 at 11:16 am \nReply\n\nJune 20, 2019 at 5:59 am \nReply\n\nJune 24, 2019 at 4:24 am \nReply\n\nJuly 1, 2019 at 9:11 pm \nReply\n\nJuly 11, 2019 at 1:34 pm \nReply\n\nJuly 14, 2019 at 12:56 am \nReply\n\nJanuary 23, 2020 at 3:54 pm \nReply\n\nJuly 27, 2019 at 7:13 am \nReply\n\nJuly 30, 2019 at 9:30 pm \nReply\n\nJuly 31, 2019 at 5:29 am \nReply\n\nAugust 8, 2019 at 6:00 am \nReply\n\nAugust 22, 2019 at 12:32 am \nReply\n\nAugust 22, 2019 at 4:48 am \nReply\n\nAugust 26, 2019 at 12:10 pm \nReply\n\nAugust 26, 2019 at 12:19 pm \nReply\n\nSeptember 3, 2019 at 7:16 pm \nReply\n\nSeptember 16, 2019 at 2:09 pm \nReply\n\nSeptember 21, 2019 at 4:11 am \nReply\n\nSeptember 29, 2019 at 4:43 pm \nReply\nHawary\n\nOctober 2, 2019 at 9:44 pm \nReply\n\nOctober 20, 2019 at 11:06 pm \nReply\n\nNovember 17, 2019 at 11:13 am \nReply\n\nDecember 15, 2019 at 7:20 am \nReply\n\nDecember 21, 2019 at 11:34 am \nReply\n\n\n\n101 Inspirational Words of Encouragement to Lift You Up\n\n35 Inspirational Songs With Lyrics To Motivate And Inspire You\n\n25 Creative And Surprising Things To Do When You Feel Lonely\n\n10 Massive Benefits of Push Ups\n\n10 Best Calorie Counter Watches\nVeteran Quotes to Honor Their Service\nPolitical Quotes\nTeamwork Quotes\nRespect Quotes\n10 Books to Read in The Fall\nCulture Quotes\n\n\n101 Quotes About Smiling To Boost Your Mood\n\n175 Feel-Good Quotes About Happiness\n\n300 Funny Quotes To Make You Laugh Out Loud\n\nFamous Quotes\n\nQuotes About Being Yourself\nGrowth\nHealth\nInterview\nProductivity\nQuotes\nReviews\nSuccess\nUncategorized\nkeep-inspiring-me-logo\nAbout Us\nQuotes\nFamous Quotes\nInspirational\nMotivational\nRelationship\nFeelings & Qualities\nSeasons\nQuote of the Day\nAll Topics\nArticles\nGrowth\nHealth\nProductivity\nSuccess\nReviews\nContact\nPinterest icon\nInstagram icon\nTwitter icon\nFacebook icon\nTerms of Use\nAffiliate Disclosure\nPrivacy Policy\n\n"
     ]
    }
   ],
   "source": [
    "import requests\n",
    "from bs4 import BeautifulSoup\n",
    "url = \"https://www.keepinspiring.me/famous-quotes/\"\n",
    "page = requests.get(url)\n",
    "if page.status_code==200:\n",
    "    w = BeautifulSoup(page.text)\n",
    "for link in w.find_all('a'):\n",
    "    print(link.text)"
   ]
  },
  {
   "cell_type": "code",
   "execution_count": 3,
   "metadata": {},
   "outputs": [],
   "source": [
    "item = w.find('h2')"
   ]
  },
  {
   "cell_type": "code",
   "execution_count": 4,
   "metadata": {},
   "outputs": [
    {
     "output_type": "execute_result",
     "data": {
      "text/plain": "'108 Famous Quotes on Life, Love, and Success'"
     },
     "metadata": {},
     "execution_count": 4
    }
   ],
   "source": [
    "item.text"
   ]
  },
  {
   "cell_type": "code",
   "execution_count": 5,
   "metadata": {},
   "outputs": [],
   "source": [
    "item = w.find('div',{'class':'author-quotes'})"
   ]
  },
  {
   "cell_type": "code",
   "execution_count": 8,
   "metadata": {},
   "outputs": [
    {
     "output_type": "execute_result",
     "data": {
      "text/plain": "'“You know you’re in love when you can’t fall asleep because reality is finally better than your dreams.”– Dr. Suess'"
     },
     "metadata": {},
     "execution_count": 8
    }
   ],
   "source": [
    "item.text"
   ]
  },
  {
   "cell_type": "code",
   "execution_count": 12,
   "metadata": {
    "tags": []
   },
   "outputs": [
    {
     "output_type": "stream",
     "name": "stdout",
     "text": "1 . “You know you’re in love when you can’t fall asleep because reality is finally better than your dreams.”– Dr. Suess\n\n\n2 . “I’m selfish, impatient and a little insecure. I make mistakes, I am out of control and at times hard to handle. But if you can’t handle me at my worst, then you sure as hell don’t deserve me at my best.”– Marilyn Monroe\n\n\n3 . “Get busy living or get busy dying.”– Stephen King\n\n\n4 . “The first step toward success is taken when you refuse to be a captive of the environment in which you first find yourself.”– Mark Caine\n\n\n5 . “When one door of happiness closes, another opens; but often we look so long at the closed door that we do not see the one which has been opened for us.”– Helen Keller\n\n\n6 . “Twenty years from now you will be more disappointed by the things that you didn’t do than by the ones you did do.”– Mark Twain\n\n\n7 . “When I dare to be powerful – to use my strength in the service of my vision, then it becomes less and less important whether I am afraid.”– Audre Lorde\n\n\n8 . “Great minds discuss ideas; average minds discuss events; small minds discuss people.”– Eleanor Roosevelt\n\n\n9 . “A successful man is one who can lay a firm foundation with the bricks others have thrown at him.”– David Brinkley\n\n\n10 . “Those who dare to fail miserably can achieve greatly.”– John F. Kennedy\n\n\n11 . “I can’t give you a sure-fire formula for success, but I can give you a formula for failure: try to please everybody all the time.”-Herbert Bayard Swope\n\n\n12 . “Would you like me to give you a formula for success? It’s quite simple, really: Double your rate of failure. You are thinking of failure as the enemy of success. But it isn’t at all. You can be discouraged by failure or you can learn from it, so go ahead and make mistakes. Make all you can. Because remember that’s where you will find success.”– Thomas J. Watson\n\n\n13 . “It is hard to fail, but it is worse never to have tried to succeed.”– Theodore Roosevelt\n\n\n14 . “I’m a success today because I had a friend who believed in me and I didn’t have the heart to let him down.”– Abraham Lincoln\n\n\n15 . “Love yourself first and everything else falls into line. You really have to love yourself to get anything done in this world.”– Lucille Ball\n\n\n16 . “Let us always meet each other with smile, for the smile is the beginning of love.”– Mother Teresa\n\n\n17 . “Challenges are what make life interesting and overcoming them is what makes life meaningful.”– Joshua J. Marine\n\n\n18 . “Love is a serious mental disease.”– Plato\n\n\n19 . “Our greatest fear should not be of failure… but of succeeding at things in life that don’t really matter.”– Francis Chan\n\n\n20 . “It had long since come to my attention that people of accomplishment rarely sat back and let things happen to them. They went out and happened to things.”– Leonardo Da Vinci\n\n\n21 . “Remember that the happiest people are not those getting more, but those giving more.”– H. Jackson Brown, Jr.\n\n\n22 . “It is our choices, that show what we truly are, far more than our abilities.”– J. K Rowling\n\n\n23 . “Only put off until tomorrow what you are willing to die having left undone.” – Pablo Picasso\n\n\n24 . “If you want to be happy, be.” – Leo Tolstoy\n\n\n25 . “Many of life’s failures are people who did not realize how close they were to success when they gave up.” – Thomas A. Edison\n\n\n26 . “If you want to live a happy life, tie it to a goal, not to people or things.” – Albert Einstein\n\n\n27 . “Success is just a war of attrition. Sure, there’s an element of talent you should probably possess. But if you just stick around long enough, eventually something is going to happen.” – Dax Shepard\n\n\n28 . “The opposite of love is not hate; it’s indifference.” – Elie Wiesel\n\n\n29 . “The good news is that the moment you decide that what you know is more important than what you have been taught to believe, you will have shifted gears in your quest for abundance. Success comes from within, not from without.” – Elie Wiesel\n\n\n30 . “I never knew how to worship until I knew how to love.” – Henry Ward Beecher\n\n\n31 . “Every great dream begins with a dreamer. Always remember, you have within you the strength, the patience, and the passion to reach for the stars to change the world.” – Harriet Tubman\n\n\n32 . “It is impossible to escape the impression that people commonly use false standards of measurement — that they seek power, success and wealth for themselves and admire them in others, and that they underestimate what is of true value in life.” – Sigmund Freud\n\n\n33 . “A friend is someone who gives you total freedom to be yourself.” – Jim Morrison\n\n\n34 . “Every great dream begins with a dreamer. Always remember, you have within you the strength, the patience, and the passion to reach for the stars to change the world.” – Harriet Tubman\n\n\n35 . “Never let the fear of striking out keep you from playing the game.” – Babe Ruth\n\n\n36 . “Live in the sunshine, swim the sea, drink the wild air.” – Ralph Waldo Emerson\n\n\n37 . “Life is trying things to see if they work.”– Ray Bradbury\n\n\n38 . “Success in business requires training and discipline and hard work. But if you’re not frightened by these things, the opportunities are just as great today as they ever were.” – David Rockefeller\n\n\n39 . “The No. 1 reason people fail in life is because they listen to their friends, family, and neighbors.” – Napoleon Hill\n\n\n40 . “Your time is limited, so don’t waste it living someone else’s life. Don’t be trapped by dogma – which is living with the results of other people’s thinking.” – Steve Jobs\n\n\n41 . “Success is how high you bounce when you hit bottom.” – George S. Patton\n\n\n42 . “You will face many defeats in life, but never let yourself be defeated.” – Maya Angelou\n\n\n43 . “May you live all the days of your life.” – Jonathan Swift\n\n\n44 . “Success is not final, failure is not fatal: it is the courage to continue that counts.” – Winston Churchill\n\n\n45 . “You’re not obligated to win. You’re obligated to keep trying. To the best you can do everyday.” – Jason Mraz\n\n\n46 . “If life were predictable it would cease to be life, and be without flavor.” – Eleanor Roosevelt\n\n\n47 . “If you don’t design your own life plan, chances are you’ll fall into someone else’s plan. And guess what they have planned for you? Not much.” – Jim Rohn\n\n\n48 . “The question isn’t who is going to let me; it’s who is going to stop me.” – Ayn Rand\n\n\n49 . “The three great essentials to achieve anything worthwhile are, first, hard work; second, stick-to-itiveness; third, common sense.” – Thomas A. Edison\n\n\n50 . “The successful warrior is the average man, with laser-like focus.” – Bruce Lee\n\n\n51 . “A man is a success if he gets up in the morning and gets to bed at night, and in between he does what he wants to do.” – Bob Dylan\n\n\n52 . “Yesterday is history, tomorrow is a mystery, today is a gift of God, which is why we call it the present.” – Bil Keane\n\n\n53 . “Life isn’t about finding yourself. Life is about creating yourself.” – George Bernard Shaw\n\n\n54 . “The whole secret of a successful life is to find out what is one’s destiny to do, and then do it.” – Henry Ford\n\n\n55 . “Success? I don’t know what that word means. I’m happy. But success, that goes back to what in somebody’s eyes success means. For me, success is inner peace. That’s a good day for me.” – Denzel Washington\n\n\n56 . “A kiss is a lovely trick designed by nature to stop speech when words become superfluous.” – Ingrid Bergman\n\n\n57 . “You miss 100 percent of the shots you never take.” – Wayne Gretzky\n\n\n58 . “In order to write about life first you must live it.” – Ernest Hemingway\n\n\n\n\n“Life itself is the most wonderful fairy tale.” – Hans Christian Andersen\n\n\n\n59 . “Do not go where the path may lead; go instead where there is no path and leave a trail.” – Ralph Waldo Emerson\n\n\n60 . “We are what we repeatedly do; excellence, then, is not an act but a habit.” – Aristotle\n\n\n61 . “Always forgive your enemies; nothing annoys them so much.” – Oscar Wilde\n\n\n62 . “The big lesson in life, baby, is never be scared of anyone or anything.” – Frank Sinatra\n\n\n63 . “To love and be loved is to feel the sun from both sides.” – David Viscott\n\n\n\n\n“If you aren’t going all the way, why go at all?” – Joe Namath\n\n\n\n64 . “Love is an irresistible desire to be irresistibly desired.” – Robert Frost\n\n\n65 . “Those who believe in telekinetics, raise my hand.” – Kurt Vonnegut\n\n\n66 . “I only regret that I have but one life to give for my country.” – Nathan Hale\n\n\n67 . “The person who reads too much and uses his brain too little will fall into lazy habits of thinking.” – Albert Einstein\n\n\n68 . “Better to have loved and lost, than to have never loved at all.” – St. Augustine\n\n\n69 . \n“Life would be tragic if it weren’t funny.” – Stephen Hawking\n“Every child is an artist, the problem is staying an artist when you grow up.” – Pablo Picasso\n“Have no fear of perfection, you’ll never reach it.” – Salvador Dali\n“Life is not a problem to be solved, but a reality to be experienced.” – Søren Kierkegaard\n“Curiosity about life in all of its aspects, I think, is still the secret of great creative people.” – Leo Burnett\n“Imagination is the beginning of creation. You imagine what you desire, you will what you imagine, and at last, you create what you will.” – George Bernard Shaw\n“Be yourself; everyone else is already taken.” – Oscar Wilde\n\n\n\n70 . “Every child is an artist, the problem is staying an artist when you grow up.” – Pablo Picasso\n\n\n71 . “Have no fear of perfection, you’ll never reach it.” – Salvador Dali\n\n\n72 . “Life is not a problem to be solved, but a reality to be experienced.” – Søren Kierkegaard\n\n\n73 . “Curiosity about life in all of its aspects, I think, is still the secret of great creative people.” – Leo Burnett\n\n\n74 . “Imagination is the beginning of creation. You imagine what you desire, you will what you imagine, and at last, you create what you will.” – George Bernard Shaw\n\n\n75 . “The journey of a thousand miles begins with one step.” – Lao Tzu\n\n\n76 . “Imagination was given to man to compensate him for what he is not, and a sense of humor was provided to console him for what he is.” – Oscar Wilde\n\n\n77 . “What you do speaks so loudly that I cannot hear what you say.” – Ralph Waldo Emerson\n\n\n78 . “Spread love everywhere you go: first of all in your own house. Give love to your children, to your wife or husband, to a next door neighbor. Let no one ever come to you without leaving better and happier. Be the living expression of God’s kindness; kindness in your face, kindness in your eyes, kindness in your smile, kindness in your warm greeting.” – Mother Theresa\n\n\n79 . \n“Be happy for this moment. This moment is your life.” – Omar Khayyam\n“You must be the change you wish to see in the world.” – Gandhi\n“Strive not to be a success, but rather to be of value.” – Albert Einstein\n“Keep your face to the sunshine and you can never see the shadow.” – Helen Keller\n“The best way out is always through.” – Robern Frost\n“The dream crossed twilight between birth and dying.” – T. S. Eliot\n\n“People are just as happy as they make up their minds to be.” – Abraham Lincoln\n\n“Don’t think. Thinking is the enemy of creativity. It’s self-conscious, and anything self-conscious is lousy. You can’t try to do things. You simply must do things.” – Ray Bradbury\n“Creativity is just connecting things. When you ask creative people how they did something, they feel a little guilty because they didn’t really do it, the just saw something. It seemed obvious to them after a while.” – Steve Jobs\n\n“Sing like no one’s listening, love like you’ve never been hurt, dance like nobody’s watching, and live like it’s heaven on earth.” – Mark Twain\n\n“The power of imagination makes us infinite.” – John Muir\n“Doing the best at this moment puts you in the best place for the next moment.” – Oprah Winfrey\n“Originality is nothing but judicious imitation.” – Voltaire\n“Life is made of ever so many partings welded together.” – Charles Dickens\n“Love is like the wind, you can’t see it, but you can feel it.” – Nicholas Sparks\nWe hope our list of famous quotes took you out of your funk! Feel free to share your favorite with your friends or in the comments below.\n\n\n\n80 . “You must be the change you wish to see in the world.” – Gandhi\n\n\n81 . “Strive not to be a success, but rather to be of value.” – Albert Einstein\n\n\n82 . “Keep your face to the sunshine and you can never see the shadow.” – Helen Keller\n\n\n83 . “The best way out is always through.” – Robern Frost\n\n\n84 . “The dream crossed twilight between birth and dying.” – T. S. Eliot\n\n\n85 . “Don’t think. Thinking is the enemy of creativity. It’s self-conscious, and anything self-conscious is lousy. You can’t try to do things. You simply must do things.” – Ray Bradbury\n\n\n86 . “Creativity is just connecting things. When you ask creative people how they did something, they feel a little guilty because they didn’t really do it, the just saw something. It seemed obvious to them after a while.” – Steve Jobs\n\n“Sing like no one’s listening, love like you’ve never been hurt, dance like nobody’s watching, and live like it’s heaven on earth.” – Mark Twain\n\n\n\n87 . “The power of imagination makes us infinite.” – John Muir\n\n\n88 . “Doing the best at this moment puts you in the best place for the next moment.” – Oprah Winfrey\n\n\n89 . “Originality is nothing but judicious imitation.” – Voltaire\n\n\n90 . “Life is made of ever so many partings welded together.” – Charles Dickens\n\n\n"
    }
   ],
   "source": [
    "quotes = []\n",
    "f_quotes = w.find_all('div',{'class':'author-quotes'})\n",
    "c = 1\n",
    "for i in f_quotes:\n",
    "    print(c,'.' ,i.text)\n",
    "    print(\"\\n\")\n",
    "    author_name = i.find('span',{'class':'quote-author-name'})\n",
    "    quotes.append({\n",
    "        'Quotes':i,\n",
    "        'Author':author_name\n",
    "    })\n",
    "    c += 1"
   ]
  },
  {
   "cell_type": "code",
   "execution_count": 13,
   "metadata": {},
   "outputs": [],
   "source": [
    "import pandas as pd"
   ]
  },
  {
   "cell_type": "code",
   "execution_count": 14,
   "metadata": {},
   "outputs": [],
   "source": [
    "qd = pd.DataFrame(quotes)"
   ]
  },
  {
   "cell_type": "code",
   "execution_count": 19,
   "metadata": {},
   "outputs": [
    {
     "output_type": "execute_result",
     "data": {
      "text/plain": "                                               Quotes  \\\n0   [“You know you’re in love when you can’t fall ...   \n1   [“I’m selfish, impatient and a little insecure...   \n2   [“Get busy living or get busy dying.”, [– Step...   \n3   [“The first step toward success is taken when ...   \n4   [[], [[<script data-cfasync=\"false\" data-ezscr...   \n..                                                ...   \n85  [“Creativity is just connecting things. When y...   \n86  [“The power of imagination makes us infinite.”...   \n87  [“Doing the best at this moment puts you in th...   \n88  [“Originality is nothing but judicious imitati...   \n89  [“Life is made of ever so many partings welded...   \n\n                      Author  \n0              [– Dr. Suess]  \n1         [– Marilyn Monroe]  \n2           [– Stephen King]  \n3             [– Mark Caine]  \n4           [– Helen Keller]  \n..                       ...  \n85  [[– Steve Jobs, [], \\n]]  \n86             [– John Muir]  \n87     [– , [Oprah Winfrey]]  \n88              [– Voltaire]  \n89       [– Charles Dickens]  \n\n[90 rows x 2 columns]",
      "text/html": "<div>\n<style scoped>\n    .dataframe tbody tr th:only-of-type {\n        vertical-align: middle;\n    }\n\n    .dataframe tbody tr th {\n        vertical-align: top;\n    }\n\n    .dataframe thead th {\n        text-align: right;\n    }\n</style>\n<table border=\"1\" class=\"dataframe\">\n  <thead>\n    <tr style=\"text-align: right;\">\n      <th></th>\n      <th>Quotes</th>\n      <th>Author</th>\n    </tr>\n  </thead>\n  <tbody>\n    <tr>\n      <th>0</th>\n      <td>[“You know you’re in love when you can’t fall ...</td>\n      <td>[– Dr. Suess]</td>\n    </tr>\n    <tr>\n      <th>1</th>\n      <td>[“I’m selfish, impatient and a little insecure...</td>\n      <td>[– Marilyn Monroe]</td>\n    </tr>\n    <tr>\n      <th>2</th>\n      <td>[“Get busy living or get busy dying.”, [– Step...</td>\n      <td>[– Stephen King]</td>\n    </tr>\n    <tr>\n      <th>3</th>\n      <td>[“The first step toward success is taken when ...</td>\n      <td>[– Mark Caine]</td>\n    </tr>\n    <tr>\n      <th>4</th>\n      <td>[[], [[&lt;script data-cfasync=\"false\" data-ezscr...</td>\n      <td>[– Helen Keller]</td>\n    </tr>\n    <tr>\n      <th>...</th>\n      <td>...</td>\n      <td>...</td>\n    </tr>\n    <tr>\n      <th>85</th>\n      <td>[“Creativity is just connecting things. When y...</td>\n      <td>[[– Steve Jobs, [], \\n]]</td>\n    </tr>\n    <tr>\n      <th>86</th>\n      <td>[“The power of imagination makes us infinite.”...</td>\n      <td>[– John Muir]</td>\n    </tr>\n    <tr>\n      <th>87</th>\n      <td>[“Doing the best at this moment puts you in th...</td>\n      <td>[– , [Oprah Winfrey]]</td>\n    </tr>\n    <tr>\n      <th>88</th>\n      <td>[“Originality is nothing but judicious imitati...</td>\n      <td>[– Voltaire]</td>\n    </tr>\n    <tr>\n      <th>89</th>\n      <td>[“Life is made of ever so many partings welded...</td>\n      <td>[– Charles Dickens]</td>\n    </tr>\n  </tbody>\n</table>\n<p>90 rows × 2 columns</p>\n</div>"
     },
     "metadata": {},
     "execution_count": 19
    }
   ],
   "source": [
    "qd"
   ]
  },
  {
   "cell_type": "code",
   "execution_count": 20,
   "metadata": {},
   "outputs": [],
   "source": [
    "qd.to_csv('f_quotes.csv',index = False)"
   ]
  },
  {
   "cell_type": "code",
   "execution_count": 10,
   "metadata": {},
   "outputs": [],
   "source": [
    "import requests\n",
    "from bs4 import BeautifulSoup\n",
    "import pandas as pd \n",
    "from tqdm import tqdm"
   ]
  },
  {
   "cell_type": "code",
   "execution_count": 11,
   "metadata": {},
   "outputs": [],
   "source": [
    "def get_soup(url):\n",
    "    try:\n",
    "        page = requests.get(url)\n",
    "        if page.status_code == 200:\n",
    "            soup = BeautifulSoup(page.text,'html.parser')\n",
    "            return soup\n",
    "        else:\n",
    "            print(\"page error\",page.status_code)\n",
    "            return None\n",
    "    except:\n",
    "        print(\"Internet error\")\n",
    "        return None"
   ]
  },
  {
   "cell_type": "code",
   "execution_count": 12,
   "metadata": {},
   "outputs": [],
   "source": [
    "def find_synonyms(word,soup1):\n",
    "    section = soup1.find('div',{'class':'css-1gb0efu e1qo4u830'})\n",
    "    allist = section.find('ul')              #find all the sections of the page\n",
    "    synonyms = allist.find_all('li')\n",
    "\n",
    "    for word in synonyms: \n",
    "        try: \n",
    "            syn_list = []                 \n",
    "            synonym = word.find('a',{'class':'css-1s3v085 eh475bn1'}).text\n",
    "            syn_list.append(synonym)\n",
    "            return syn_list\n",
    "        except Exception as e:\n",
    "            print(e)\n",
    "    else:\n",
    "        print(f'no result found for {word}')"
   ]
  },
  {
   "cell_type": "code",
   "execution_count": 5,
   "metadata": {},
   "outputs": [],
   "source": [
    "def find_def(word,soup2):\n",
    "    if word:\n",
    "        dsection = soup2.find('section',{'class':'css-pnw38j e1hk9ate0'})\n",
    "        defnition = dsection.find('div').text\n",
    "        return{\"Defnition\":defnition}\n",
    "    else:\n",
    "        print(f'no result found for {word}')  "
   ]
  },
  {
   "cell_type": "code",
   "execution_count": 6,
   "metadata": {},
   "outputs": [
    {
     "output_type": "stream",
     "name": "stdout",
     "text": [
      "Enter\n",
      "    1 - To search synonym of the word\n",
      "    2 - TO search Defnition of the word\n",
      "no result found for \n",
      "Definition of  are scraped and saved\n"
     ]
    }
   ],
   "source": [
    "if __name__ == \"__main__\":\n",
    "    word = input(\"Enter the word to search: \")\n",
    "    print(\"\"\"Enter\n",
    "    1 - To search synonym of the word\n",
    "    2 - TO search Defnition of the word\"\"\")\n",
    "    choice = input(\"Enter the your choice: \")\n",
    "    if choice == '1':\n",
    "        \n",
    "        url = f'https://www.thesaurus.com/browse/' + word     \n",
    "        soup1 = get_soup(url)\n",
    "        syn = find_synonyms(word,soup1)\n",
    "        df2 = pd.DataFrame(syn)\n",
    "        print(df2)\n",
    "        df2.to_csv(f'Synonyms of {word}.csv')\n",
    "        print('Synonyms of sympathy are scraped and saved')      \n",
    "    else:\n",
    "        def_list = []\n",
    "        url = f'https://www.dictionary.com/browse/' + word\n",
    "        soup2 = get_soup(url)\n",
    "        defn = find_def(word,soup2)\n",
    "        def_list.append(defn)\n",
    "        df2 = pd.DataFrame(def_list)\n",
    "        df2.to_csv(f'Defintion_of_{word}.csv')\n",
    "        print(f'Definition of {word} are scraped and saved')"
   ]
  },
  {
   "cell_type": "code",
   "execution_count": 6,
   "metadata": {},
   "outputs": [
    {
     "output_type": "execute_result",
     "data": {
      "text/plain": [
       "               0\n",
       "0  accomplished "
      ],
      "text/html": "<div>\n<style scoped>\n    .dataframe tbody tr th:only-of-type {\n        vertical-align: middle;\n    }\n\n    .dataframe tbody tr th {\n        vertical-align: top;\n    }\n\n    .dataframe thead th {\n        text-align: right;\n    }\n</style>\n<table border=\"1\" class=\"dataframe\">\n  <thead>\n    <tr style=\"text-align: right;\">\n      <th></th>\n      <th>0</th>\n    </tr>\n  </thead>\n  <tbody>\n    <tr>\n      <th>0</th>\n      <td>accomplished</td>\n    </tr>\n  </tbody>\n</table>\n</div>"
     },
     "metadata": {},
     "execution_count": 6
    }
   ],
   "source": [
    "df2"
   ]
  },
  {
   "cell_type": "code",
   "execution_count": 17,
   "metadata": {},
   "outputs": [
    {
     "output_type": "stream",
     "name": "stdout",
     "text": [
      "[{'Synonym': 'pericope '}]\n     Synonym\n0  pericope \n"
     ]
    }
   ],
   "source": [
    "if __name__ == \"__main__\":\n",
    "    word = input(\"Enter the word to search: \")\n",
    "    url = f'https://www.thesaurus.com/browse/' + word     \n",
    "    soup1 = get_soup(url)\n",
    "    section = soup1.find('div',{'class':'css-1gb0efu e1qo4u830'})\n",
    "    allist = section.find('ul')              #find all the sections of the page\n",
    "    synonyms = allist.find_all('li')\n",
    "\n",
    "    for i in synonyms: \n",
    "        try: \n",
    "            syn = []             \n",
    "            synonym = i.find('a').text\n",
    "            syn.append({'Synonym':synonym})\n",
    "        \n",
    "        except Exception as e:\n",
    "            print(e)\n",
    "    print(syn)\n",
    "    df = pd.DataFrame(syn)\n",
    "    print(df)"
   ]
  },
  {
   "cell_type": "code",
   "execution_count": 18,
   "metadata": {},
   "outputs": [
    {
     "output_type": "execute_result",
     "data": {
      "text/plain": [
       "['exprobation ']"
      ]
     },
     "metadata": {},
     "execution_count": 18
    }
   ],
   "source": [
    "syn"
   ]
  },
  {
   "cell_type": "code",
   "execution_count": null,
   "metadata": {},
   "outputs": [],
   "source": []
  }
 ]
}